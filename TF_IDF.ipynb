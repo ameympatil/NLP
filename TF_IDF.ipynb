{
  "nbformat": 4,
  "nbformat_minor": 0,
  "metadata": {
    "colab": {
      "provenance": [],
      "collapsed_sections": [],
      "authorship_tag": "ABX9TyMBqAMP4HEK88dalzmrg6I8",
      "include_colab_link": true
    },
    "kernelspec": {
      "name": "python3",
      "display_name": "Python 3"
    },
    "language_info": {
      "name": "python"
    }
  },
  "cells": [
    {
      "cell_type": "markdown",
      "metadata": {
        "id": "view-in-github",
        "colab_type": "text"
      },
      "source": [
        "<a href=\"https://colab.research.google.com/github/ameympatil/NLP/blob/main/TF_IDF.ipynb\" target=\"_parent\"><img src=\"https://colab.research.google.com/assets/colab-badge.svg\" alt=\"Open In Colab\"/></a>"
      ]
    },
    {
      "cell_type": "code",
      "execution_count": 1,
      "metadata": {
        "id": "qm-sm0QWr92m",
        "colab": {
          "base_uri": "https://localhost:8080/"
        },
        "outputId": "2acb9c51-6ab1-420c-fd85-4d039e08a161"
      },
      "outputs": [
        {
          "output_type": "stream",
          "name": "stdout",
          "text": [
            "Looking in indexes: https://pypi.org/simple, https://us-python.pkg.dev/colab-wheels/public/simple/\n",
            "Requirement already satisfied: nltk in /usr/local/lib/python3.7/dist-packages (3.7)\n",
            "Requirement already satisfied: regex>=2021.8.3 in /usr/local/lib/python3.7/dist-packages (from nltk) (2022.6.2)\n",
            "Requirement already satisfied: joblib in /usr/local/lib/python3.7/dist-packages (from nltk) (1.1.0)\n",
            "Requirement already satisfied: click in /usr/local/lib/python3.7/dist-packages (from nltk) (7.1.2)\n",
            "Requirement already satisfied: tqdm in /usr/local/lib/python3.7/dist-packages (from nltk) (4.64.1)\n"
          ]
        }
      ],
      "source": [
        "!pip install nltk"
      ]
    },
    {
      "cell_type": "code",
      "source": [
        "paragrapgh = \"\"\"\n",
        "Narendra Damodardas Modi (Gujarati: [ˈnəɾendɾə dɑmodəɾˈdɑs ˈmodiː] (listen); born 17 September 1950)[b] is an Indian politician serving as the 14th and current prime minister of India since 2014. Modi was the chief minister of Gujarat from 2001 to 2014 and is the Member of Parliament from Varanasi. He is a member of the Bharatiya Janata Party (BJP) and of the Rashtriya Swayamsevak Sangh (RSS), a right-wing Hindu nationalist paramilitary volunteer organisation. He is the first prime minister to have been born after India's independence in 1947 and the longest serving prime minister from outside the Indian National Congress.\n",
        "\n",
        "Modi was born and raised in Vadnagar in northeastern Gujarat, where he completed his secondary education. He was introduced to the RSS at age eight. He has discussed having to work as a child in his father's tea stall in the Vadnagar railway station, which has not been reliably corroborated. At age 18, Modi was married to Jashodaben Chimanlal Modi, whom he abandoned soon after. He first publicly acknowledged her as his wife more than four decades later when required to do so by Indian law, but has made no contact with her since. Modi has asserted he had travelled in northern India for two years after leaving his parental home, visiting a number of religious centres, but few details of his travels have emerged. Upon his return to Gujarat in 1971, he became a full-time worker for the RSS. After the state of emergency was declared by prime minister Indira Gandhi in 1975, Modi went into hiding. The RSS assigned him to the BJP in 1985 and he held several positions within the party hierarchy until 2001, rising to the rank of general secretary.[c]\n",
        "\"\"\""
      ],
      "metadata": {
        "id": "Mo7raLFGsKkp"
      },
      "execution_count": 2,
      "outputs": []
    },
    {
      "cell_type": "code",
      "source": [
        "paragrapgh"
      ],
      "metadata": {
        "colab": {
          "base_uri": "https://localhost:8080/",
          "height": 140
        },
        "id": "RnIWs_GlszhJ",
        "outputId": "b61bddad-97b0-4bd1-9846-9eeca84a8091"
      },
      "execution_count": 3,
      "outputs": [
        {
          "output_type": "execute_result",
          "data": {
            "text/plain": [
              "\"\\nNarendra Damodardas Modi (Gujarati: [ˈnəɾendɾə dɑmodəɾˈdɑs ˈmodiː] (listen); born 17 September 1950)[b] is an Indian politician serving as the 14th and current prime minister of India since 2014. Modi was the chief minister of Gujarat from 2001 to 2014 and is the Member of Parliament from Varanasi. He is a member of the Bharatiya Janata Party (BJP) and of the Rashtriya Swayamsevak Sangh (RSS), a right-wing Hindu nationalist paramilitary volunteer organisation. He is the first prime minister to have been born after India's independence in 1947 and the longest serving prime minister from outside the Indian National Congress.\\n\\nModi was born and raised in Vadnagar in northeastern Gujarat, where he completed his secondary education. He was introduced to the RSS at age eight. He has discussed having to work as a child in his father's tea stall in the Vadnagar railway station, which has not been reliably corroborated. At age 18, Modi was married to Jashodaben Chimanlal Modi, whom he abandoned soon after. He first publicly acknowledged her as his wife more than four decades later when required to do so by Indian law, but has made no contact with her since. Modi has asserted he had travelled in northern India for two years after leaving his parental home, visiting a number of religious centres, but few details of his travels have emerged. Upon his return to Gujarat in 1971, he became a full-time worker for the RSS. After the state of emergency was declared by prime minister Indira Gandhi in 1975, Modi went into hiding. The RSS assigned him to the BJP in 1985 and he held several positions within the party hierarchy until 2001, rising to the rank of general secretary.[c]\\n\""
            ],
            "application/vnd.google.colaboratory.intrinsic+json": {
              "type": "string"
            }
          },
          "metadata": {},
          "execution_count": 3
        }
      ]
    },
    {
      "cell_type": "code",
      "source": [
        "import nltk\n",
        "from nltk.stem import PorterStemmer # for stemming use\n",
        "from nltk.corpus import stopwords #for stopwords"
      ],
      "metadata": {
        "id": "-i6CyZGZs2ph"
      },
      "execution_count": 4,
      "outputs": []
    },
    {
      "cell_type": "markdown",
      "source": [
        "## Tokenization\n",
        "converts paragrapgh into sentences then into words"
      ],
      "metadata": {
        "id": "KEuif5zotznO"
      }
    },
    {
      "cell_type": "code",
      "source": [
        "nltk.download('punkt')\n",
        "sentences = nltk.sent_tokenize(paragrapgh)"
      ],
      "metadata": {
        "id": "_uikHqY7tHfZ",
        "colab": {
          "base_uri": "https://localhost:8080/"
        },
        "outputId": "190b0925-6f61-4b16-c59e-f5fb87524db7"
      },
      "execution_count": 5,
      "outputs": [
        {
          "output_type": "stream",
          "name": "stderr",
          "text": [
            "[nltk_data] Downloading package punkt to /root/nltk_data...\n",
            "[nltk_data]   Unzipping tokenizers/punkt.zip.\n"
          ]
        }
      ]
    },
    {
      "cell_type": "code",
      "source": [
        "sentences"
      ],
      "metadata": {
        "colab": {
          "base_uri": "https://localhost:8080/"
        },
        "id": "asYbMrGNuZD1",
        "outputId": "c50242eb-b73e-4cd0-e46e-d5b82f3e4cd3"
      },
      "execution_count": 6,
      "outputs": [
        {
          "output_type": "execute_result",
          "data": {
            "text/plain": [
              "['\\nNarendra Damodardas Modi (Gujarati: [ˈnəɾendɾə dɑmodəɾˈdɑs ˈmodiː] (listen); born 17 September 1950)[b] is an Indian politician serving as the 14th and current prime minister of India since 2014.',\n",
              " 'Modi was the chief minister of Gujarat from 2001 to 2014 and is the Member of Parliament from Varanasi.',\n",
              " 'He is a member of the Bharatiya Janata Party (BJP) and of the Rashtriya Swayamsevak Sangh (RSS), a right-wing Hindu nationalist paramilitary volunteer organisation.',\n",
              " \"He is the first prime minister to have been born after India's independence in 1947 and the longest serving prime minister from outside the Indian National Congress.\",\n",
              " 'Modi was born and raised in Vadnagar in northeastern Gujarat, where he completed his secondary education.',\n",
              " 'He was introduced to the RSS at age eight.',\n",
              " \"He has discussed having to work as a child in his father's tea stall in the Vadnagar railway station, which has not been reliably corroborated.\",\n",
              " 'At age 18, Modi was married to Jashodaben Chimanlal Modi, whom he abandoned soon after.',\n",
              " 'He first publicly acknowledged her as his wife more than four decades later when required to do so by Indian law, but has made no contact with her since.',\n",
              " 'Modi has asserted he had travelled in northern India for two years after leaving his parental home, visiting a number of religious centres, but few details of his travels have emerged.',\n",
              " 'Upon his return to Gujarat in 1971, he became a full-time worker for the RSS.',\n",
              " 'After the state of emergency was declared by prime minister Indira Gandhi in 1975, Modi went into hiding.',\n",
              " 'The RSS assigned him to the BJP in 1985 and he held several positions within the party hierarchy until 2001, rising to the rank of general secretary.',\n",
              " '[c]']"
            ]
          },
          "metadata": {},
          "execution_count": 6
        }
      ]
    },
    {
      "cell_type": "code",
      "source": [
        "type(sentences)"
      ],
      "metadata": {
        "colab": {
          "base_uri": "https://localhost:8080/"
        },
        "id": "PEEiCq0CupqH",
        "outputId": "1ea04fb0-da82-423f-d622-c92d8b31d391"
      },
      "execution_count": 7,
      "outputs": [
        {
          "output_type": "execute_result",
          "data": {
            "text/plain": [
              "list"
            ]
          },
          "metadata": {},
          "execution_count": 7
        }
      ]
    },
    {
      "cell_type": "markdown",
      "source": [
        "## Stemming\n",
        "Converting words to short form"
      ],
      "metadata": {
        "id": "llV77rvevsfr"
      }
    },
    {
      "cell_type": "code",
      "source": [
        "stemmer = PorterStemmer()"
      ],
      "metadata": {
        "id": "ZL3uXGymuxa4"
      },
      "execution_count": 8,
      "outputs": []
    },
    {
      "cell_type": "code",
      "source": [
        "stemmer.stem('going')"
      ],
      "metadata": {
        "colab": {
          "base_uri": "https://localhost:8080/",
          "height": 35
        },
        "id": "bYYsQiV9vHut",
        "outputId": "56ff3eff-cb4a-462d-a70c-1d7eb1abb7d2"
      },
      "execution_count": 9,
      "outputs": [
        {
          "output_type": "execute_result",
          "data": {
            "text/plain": [
              "'go'"
            ],
            "application/vnd.google.colaboratory.intrinsic+json": {
              "type": "string"
            }
          },
          "metadata": {},
          "execution_count": 9
        }
      ]
    },
    {
      "cell_type": "markdown",
      "source": [
        "## Lemmitization\n",
        "Gives meaningfull words"
      ],
      "metadata": {
        "id": "vUbboC1bv2Rm"
      }
    },
    {
      "cell_type": "code",
      "source": [
        "from nltk.stem import WordNetLemmatizer"
      ],
      "metadata": {
        "id": "3GB2eLXFvLyS"
      },
      "execution_count": 10,
      "outputs": []
    },
    {
      "cell_type": "code",
      "source": [
        "lemmatizer = WordNetLemmatizer()\n",
        "nltk.download('wordnet')\n",
        "nltk.download('omw-1.4')\n",
        "lemmatizer.lemmatize('going')"
      ],
      "metadata": {
        "colab": {
          "base_uri": "https://localhost:8080/",
          "height": 70
        },
        "id": "W5wNeZUGwDug",
        "outputId": "c6e97079-fc6e-4a83-93fa-a06b8754850c"
      },
      "execution_count": 11,
      "outputs": [
        {
          "output_type": "stream",
          "name": "stderr",
          "text": [
            "[nltk_data] Downloading package wordnet to /root/nltk_data...\n",
            "[nltk_data] Downloading package omw-1.4 to /root/nltk_data...\n"
          ]
        },
        {
          "output_type": "execute_result",
          "data": {
            "text/plain": [
              "'going'"
            ],
            "application/vnd.google.colaboratory.intrinsic+json": {
              "type": "string"
            }
          },
          "metadata": {},
          "execution_count": 11
        }
      ]
    },
    {
      "cell_type": "code",
      "source": [
        "len(sentences)"
      ],
      "metadata": {
        "colab": {
          "base_uri": "https://localhost:8080/"
        },
        "id": "dGVKwPgIxkoB",
        "outputId": "164951d5-32e3-4ba7-9394-9c046634c576"
      },
      "execution_count": 12,
      "outputs": [
        {
          "output_type": "execute_result",
          "data": {
            "text/plain": [
              "14"
            ]
          },
          "metadata": {},
          "execution_count": 12
        }
      ]
    },
    {
      "cell_type": "markdown",
      "source": [
        "## Cleaning Data using Regular Expression"
      ],
      "metadata": {
        "id": "j5LqCbxAze6W"
      }
    },
    {
      "cell_type": "code",
      "source": [
        "import re\n",
        "corpus = []\n",
        "\n",
        "for i in range(len(sentences)):\n",
        "  review = re.sub('[^a-zA-Z]',' ',sentences[i])\n",
        "  review = review.lower()\n",
        "  corpus.append(review)"
      ],
      "metadata": {
        "id": "cW-tXvR9wfKX"
      },
      "execution_count": 13,
      "outputs": []
    },
    {
      "cell_type": "code",
      "source": [
        "corpus"
      ],
      "metadata": {
        "colab": {
          "base_uri": "https://localhost:8080/"
        },
        "id": "A6Ea47LexwVM",
        "outputId": "d079a007-49da-45b5-c70c-691eab64640e"
      },
      "execution_count": 14,
      "outputs": [
        {
          "output_type": "execute_result",
          "data": {
            "text/plain": [
              "[' narendra damodardas modi  gujarati    n  end   d mod   d s  modi    listen   born    september       b  is an indian politician serving as the   th and current prime minister of india since      ',\n",
              " 'modi was the chief minister of gujarat from      to      and is the member of parliament from varanasi ',\n",
              " 'he is a member of the bharatiya janata party  bjp  and of the rashtriya swayamsevak sangh  rss   a right wing hindu nationalist paramilitary volunteer organisation ',\n",
              " 'he is the first prime minister to have been born after india s independence in      and the longest serving prime minister from outside the indian national congress ',\n",
              " 'modi was born and raised in vadnagar in northeastern gujarat  where he completed his secondary education ',\n",
              " 'he was introduced to the rss at age eight ',\n",
              " 'he has discussed having to work as a child in his father s tea stall in the vadnagar railway station  which has not been reliably corroborated ',\n",
              " 'at age     modi was married to jashodaben chimanlal modi  whom he abandoned soon after ',\n",
              " 'he first publicly acknowledged her as his wife more than four decades later when required to do so by indian law  but has made no contact with her since ',\n",
              " 'modi has asserted he had travelled in northern india for two years after leaving his parental home  visiting a number of religious centres  but few details of his travels have emerged ',\n",
              " 'upon his return to gujarat in       he became a full time worker for the rss ',\n",
              " 'after the state of emergency was declared by prime minister indira gandhi in       modi went into hiding ',\n",
              " 'the rss assigned him to the bjp in      and he held several positions within the party hierarchy until       rising to the rank of general secretary ',\n",
              " ' c ']"
            ]
          },
          "metadata": {},
          "execution_count": 14
        }
      ]
    },
    {
      "cell_type": "code",
      "source": [
        "#Stemming\n",
        "nltk.download('stopwords')\n",
        "from nltk.stem import PorterStemmer\n",
        "stemmer = PorterStemmer()\n",
        "words = []\n",
        "for i in corpus:\n",
        "  words = nltk.word_tokenize(i)\n",
        "  for i in words:\n",
        "    if i not in set(stopwords.words('english')):\n",
        "      print(stemmer.stem(i))"
      ],
      "metadata": {
        "colab": {
          "base_uri": "https://localhost:8080/"
        },
        "id": "g6tV6ruZybSz",
        "outputId": "b5f184e3-257b-4893-8808-1fec33aeb6d7"
      },
      "execution_count": 15,
      "outputs": [
        {
          "output_type": "stream",
          "name": "stderr",
          "text": [
            "[nltk_data] Downloading package stopwords to /root/nltk_data...\n",
            "[nltk_data]   Unzipping corpora/stopwords.zip.\n"
          ]
        },
        {
          "output_type": "stream",
          "name": "stdout",
          "text": [
            "narendra\n",
            "damodarda\n",
            "modi\n",
            "gujarati\n",
            "n\n",
            "end\n",
            "mod\n",
            "modi\n",
            "listen\n",
            "born\n",
            "septemb\n",
            "b\n",
            "indian\n",
            "politician\n",
            "serv\n",
            "th\n",
            "current\n",
            "prime\n",
            "minist\n",
            "india\n",
            "sinc\n",
            "modi\n",
            "chief\n",
            "minist\n",
            "gujarat\n",
            "member\n",
            "parliament\n",
            "varanasi\n",
            "member\n",
            "bharatiya\n",
            "janata\n",
            "parti\n",
            "bjp\n",
            "rashtriya\n",
            "swayamsevak\n",
            "sangh\n",
            "rss\n",
            "right\n",
            "wing\n",
            "hindu\n",
            "nationalist\n",
            "paramilitari\n",
            "volunt\n",
            "organis\n",
            "first\n",
            "prime\n",
            "minist\n",
            "born\n",
            "india\n",
            "independ\n",
            "longest\n",
            "serv\n",
            "prime\n",
            "minist\n",
            "outsid\n",
            "indian\n",
            "nation\n",
            "congress\n",
            "modi\n",
            "born\n",
            "rais\n",
            "vadnagar\n",
            "northeastern\n",
            "gujarat\n",
            "complet\n",
            "secondari\n",
            "educ\n",
            "introduc\n",
            "rss\n",
            "age\n",
            "eight\n",
            "discuss\n",
            "work\n",
            "child\n",
            "father\n",
            "tea\n",
            "stall\n",
            "vadnagar\n",
            "railway\n",
            "station\n",
            "reliabl\n",
            "corrobor\n",
            "age\n",
            "modi\n",
            "marri\n",
            "jashodaben\n",
            "chimanl\n",
            "modi\n",
            "abandon\n",
            "soon\n",
            "first\n",
            "publicli\n",
            "acknowledg\n",
            "wife\n",
            "four\n",
            "decad\n",
            "later\n",
            "requir\n",
            "indian\n",
            "law\n",
            "made\n",
            "contact\n",
            "sinc\n",
            "modi\n",
            "assert\n",
            "travel\n",
            "northern\n",
            "india\n",
            "two\n",
            "year\n",
            "leav\n",
            "parent\n",
            "home\n",
            "visit\n",
            "number\n",
            "religi\n",
            "centr\n",
            "detail\n",
            "travel\n",
            "emerg\n",
            "upon\n",
            "return\n",
            "gujarat\n",
            "becam\n",
            "full\n",
            "time\n",
            "worker\n",
            "rss\n",
            "state\n",
            "emerg\n",
            "declar\n",
            "prime\n",
            "minist\n",
            "indira\n",
            "gandhi\n",
            "modi\n",
            "went\n",
            "hide\n",
            "rss\n",
            "assign\n",
            "bjp\n",
            "held\n",
            "sever\n",
            "posit\n",
            "within\n",
            "parti\n",
            "hierarchi\n",
            "rise\n",
            "rank\n",
            "gener\n",
            "secretari\n",
            "c\n"
          ]
        }
      ]
    },
    {
      "cell_type": "code",
      "source": [
        "#Lemmatization\n",
        "from nltk.stem import WordNetLemmatizer\n",
        "le = WordNetLemmatizer()\n",
        "\n",
        "for i in corpus:\n",
        "  words = nltk.word_tokenize(i)\n",
        "  for j in words:\n",
        "    if j not in set(stopwords.words('english')):\n",
        "      print(le.lemmatize(j))"
      ],
      "metadata": {
        "colab": {
          "base_uri": "https://localhost:8080/"
        },
        "id": "wl-hpHBj15_r",
        "outputId": "222d4037-cb10-4a8f-9821-5a87af7a1985"
      },
      "execution_count": 16,
      "outputs": [
        {
          "output_type": "stream",
          "name": "stdout",
          "text": [
            "narendra\n",
            "damodardas\n",
            "modi\n",
            "gujarati\n",
            "n\n",
            "end\n",
            "mod\n",
            "modi\n",
            "listen\n",
            "born\n",
            "september\n",
            "b\n",
            "indian\n",
            "politician\n",
            "serving\n",
            "th\n",
            "current\n",
            "prime\n",
            "minister\n",
            "india\n",
            "since\n",
            "modi\n",
            "chief\n",
            "minister\n",
            "gujarat\n",
            "member\n",
            "parliament\n",
            "varanasi\n",
            "member\n",
            "bharatiya\n",
            "janata\n",
            "party\n",
            "bjp\n",
            "rashtriya\n",
            "swayamsevak\n",
            "sangh\n",
            "r\n",
            "right\n",
            "wing\n",
            "hindu\n",
            "nationalist\n",
            "paramilitary\n",
            "volunteer\n",
            "organisation\n",
            "first\n",
            "prime\n",
            "minister\n",
            "born\n",
            "india\n",
            "independence\n",
            "longest\n",
            "serving\n",
            "prime\n",
            "minister\n",
            "outside\n",
            "indian\n",
            "national\n",
            "congress\n",
            "modi\n",
            "born\n",
            "raised\n",
            "vadnagar\n",
            "northeastern\n",
            "gujarat\n",
            "completed\n",
            "secondary\n",
            "education\n",
            "introduced\n",
            "r\n",
            "age\n",
            "eight\n",
            "discussed\n",
            "work\n",
            "child\n",
            "father\n",
            "tea\n",
            "stall\n",
            "vadnagar\n",
            "railway\n",
            "station\n",
            "reliably\n",
            "corroborated\n",
            "age\n",
            "modi\n",
            "married\n",
            "jashodaben\n",
            "chimanlal\n",
            "modi\n",
            "abandoned\n",
            "soon\n",
            "first\n",
            "publicly\n",
            "acknowledged\n",
            "wife\n",
            "four\n",
            "decade\n",
            "later\n",
            "required\n",
            "indian\n",
            "law\n",
            "made\n",
            "contact\n",
            "since\n",
            "modi\n",
            "asserted\n",
            "travelled\n",
            "northern\n",
            "india\n",
            "two\n",
            "year\n",
            "leaving\n",
            "parental\n",
            "home\n",
            "visiting\n",
            "number\n",
            "religious\n",
            "centre\n",
            "detail\n",
            "travel\n",
            "emerged\n",
            "upon\n",
            "return\n",
            "gujarat\n",
            "became\n",
            "full\n",
            "time\n",
            "worker\n",
            "r\n",
            "state\n",
            "emergency\n",
            "declared\n",
            "prime\n",
            "minister\n",
            "indira\n",
            "gandhi\n",
            "modi\n",
            "went\n",
            "hiding\n",
            "r\n",
            "assigned\n",
            "bjp\n",
            "held\n",
            "several\n",
            "position\n",
            "within\n",
            "party\n",
            "hierarchy\n",
            "rising\n",
            "rank\n",
            "general\n",
            "secretary\n",
            "c\n"
          ]
        }
      ]
    },
    {
      "cell_type": "markdown",
      "source": [
        "## Bag Of Words"
      ],
      "metadata": {
        "id": "tHKpMiKj48V6"
      }
    },
    {
      "cell_type": "code",
      "source": [
        "from sklearn.feature_extraction.text import CountVectorizer\n",
        "cv = CountVectorizer(ngram_range=(2,3))"
      ],
      "metadata": {
        "id": "jYRLNRqU3yE1"
      },
      "execution_count": 17,
      "outputs": []
    },
    {
      "cell_type": "code",
      "source": [
        "X = cv.fit_transform(corpus)"
      ],
      "metadata": {
        "id": "E0e2XT_g4k02"
      },
      "execution_count": 18,
      "outputs": []
    },
    {
      "cell_type": "code",
      "source": [
        "cv.vocabulary_"
      ],
      "metadata": {
        "colab": {
          "base_uri": "https://localhost:8080/"
        },
        "id": "ApaGlCBc5HdK",
        "outputId": "dab4e0fd-3a9f-4760-9881-12ffe934106c"
      },
      "execution_count": 19,
      "outputs": [
        {
          "output_type": "execute_result",
          "data": {
            "text/plain": [
              "{'narendra damodardas': 277,\n",
              " 'damodardas modi': 80,\n",
              " 'modi gujarati': 261,\n",
              " 'gujarati end': 126,\n",
              " 'end mod': 94,\n",
              " 'mod modi': 259,\n",
              " 'modi listen': 265,\n",
              " 'listen born': 239,\n",
              " 'born september': 56,\n",
              " 'september is': 360,\n",
              " 'is an': 222,\n",
              " 'an indian': 13,\n",
              " 'indian politician': 215,\n",
              " 'politician serving': 321,\n",
              " 'serving as': 362,\n",
              " 'as the': 31,\n",
              " 'the th': 410,\n",
              " 'th and': 381,\n",
              " 'and current': 15,\n",
              " 'current prime': 78,\n",
              " 'prime minister': 325,\n",
              " 'minister of': 254,\n",
              " 'of india': 300,\n",
              " 'india since': 210,\n",
              " 'narendra damodardas modi': 278,\n",
              " 'damodardas modi gujarati': 81,\n",
              " 'modi gujarati end': 262,\n",
              " 'gujarati end mod': 127,\n",
              " 'end mod modi': 95,\n",
              " 'mod modi listen': 260,\n",
              " 'modi listen born': 266,\n",
              " 'listen born september': 240,\n",
              " 'born september is': 57,\n",
              " 'september is an': 361,\n",
              " 'is an indian': 223,\n",
              " 'an indian politician': 14,\n",
              " 'indian politician serving': 216,\n",
              " 'politician serving as': 322,\n",
              " 'serving as the': 363,\n",
              " 'as the th': 32,\n",
              " 'the th and': 411,\n",
              " 'th and current': 382,\n",
              " 'and current prime': 16,\n",
              " 'current prime minister': 79,\n",
              " 'prime minister of': 328,\n",
              " 'minister of india': 256,\n",
              " 'of india since': 301,\n",
              " 'modi was': 267,\n",
              " 'was the': 457,\n",
              " 'the chief': 389,\n",
              " 'chief minister': 68,\n",
              " 'of gujarat': 296,\n",
              " 'gujarat from': 120,\n",
              " 'from to': 112,\n",
              " 'to and': 416,\n",
              " 'and is': 19,\n",
              " 'is the': 226,\n",
              " 'the member': 397,\n",
              " 'member of': 247,\n",
              " 'of parliament': 302,\n",
              " 'parliament from': 315,\n",
              " 'from varanasi': 114,\n",
              " 'modi was the': 270,\n",
              " 'was the chief': 458,\n",
              " 'the chief minister': 390,\n",
              " 'chief minister of': 69,\n",
              " 'minister of gujarat': 255,\n",
              " 'of gujarat from': 297,\n",
              " 'gujarat from to': 121,\n",
              " 'from to and': 113,\n",
              " 'to and is': 417,\n",
              " 'and is the': 20,\n",
              " 'is the member': 228,\n",
              " 'the member of': 398,\n",
              " 'member of parliament': 248,\n",
              " 'of parliament from': 303,\n",
              " 'parliament from varanasi': 316,\n",
              " 'he is': 157,\n",
              " 'is member': 224,\n",
              " 'of the': 306,\n",
              " 'the bharatiya': 385,\n",
              " 'bharatiya janata': 46,\n",
              " 'janata party': 229,\n",
              " 'party bjp': 317,\n",
              " 'bjp and': 48,\n",
              " 'and of': 21,\n",
              " 'the rashtriya': 403,\n",
              " 'rashtriya swayamsevak': 338,\n",
              " 'swayamsevak sangh': 377,\n",
              " 'sangh rss': 357,\n",
              " 'rss right': 355,\n",
              " 'right wing': 347,\n",
              " 'wing hindu': 471,\n",
              " 'hindu nationalist': 171,\n",
              " 'nationalist paramilitary': 280,\n",
              " 'paramilitary volunteer': 311,\n",
              " 'volunteer organisation': 448,\n",
              " 'he is member': 158,\n",
              " 'is member of': 225,\n",
              " 'member of the': 249,\n",
              " 'of the bharatiya': 307,\n",
              " 'the bharatiya janata': 386,\n",
              " 'bharatiya janata party': 47,\n",
              " 'janata party bjp': 230,\n",
              " 'party bjp and': 318,\n",
              " 'bjp and of': 49,\n",
              " 'and of the': 22,\n",
              " 'of the rashtriya': 308,\n",
              " 'the rashtriya swayamsevak': 404,\n",
              " 'rashtriya swayamsevak sangh': 339,\n",
              " 'swayamsevak sangh rss': 378,\n",
              " 'sangh rss right': 358,\n",
              " 'rss right wing': 356,\n",
              " 'right wing hindu': 348,\n",
              " 'wing hindu nationalist': 472,\n",
              " 'hindu nationalist paramilitary': 172,\n",
              " 'nationalist paramilitary volunteer': 281,\n",
              " 'paramilitary volunteer organisation': 312,\n",
              " 'the first': 391,\n",
              " 'first prime': 100,\n",
              " 'minister to': 257,\n",
              " 'to have': 422,\n",
              " 'have been': 138,\n",
              " 'been born': 42,\n",
              " 'born after': 52,\n",
              " 'after india': 4,\n",
              " 'india independence': 208,\n",
              " 'independence in': 204,\n",
              " 'in and': 187,\n",
              " 'and the': 25,\n",
              " 'the longest': 395,\n",
              " 'longest serving': 241,\n",
              " 'serving prime': 364,\n",
              " 'minister from': 250,\n",
              " 'from outside': 110,\n",
              " 'outside the': 309,\n",
              " 'the indian': 393,\n",
              " 'indian national': 213,\n",
              " 'national congress': 279,\n",
              " 'he is the': 159,\n",
              " 'is the first': 227,\n",
              " 'the first prime': 392,\n",
              " 'first prime minister': 101,\n",
              " 'prime minister to': 329,\n",
              " 'minister to have': 258,\n",
              " 'to have been': 423,\n",
              " 'have been born': 139,\n",
              " 'been born after': 43,\n",
              " 'born after india': 53,\n",
              " 'after india independence': 5,\n",
              " 'india independence in': 209,\n",
              " 'independence in and': 205,\n",
              " 'in and the': 189,\n",
              " 'and the longest': 26,\n",
              " 'the longest serving': 396,\n",
              " 'longest serving prime': 242,\n",
              " 'serving prime minister': 365,\n",
              " 'prime minister from': 326,\n",
              " 'minister from outside': 251,\n",
              " 'from outside the': 111,\n",
              " 'outside the indian': 310,\n",
              " 'the indian national': 394,\n",
              " 'indian national congress': 214,\n",
              " 'was born': 449,\n",
              " 'born and': 54,\n",
              " 'and raised': 23,\n",
              " 'raised in': 334,\n",
              " 'in vadnagar': 202,\n",
              " 'vadnagar in': 442,\n",
              " 'in northeastern': 196,\n",
              " 'northeastern gujarat': 284,\n",
              " 'gujarat where': 124,\n",
              " 'where he': 463,\n",
              " 'he completed': 147,\n",
              " 'completed his': 74,\n",
              " 'his secondary': 179,\n",
              " 'secondary education': 359,\n",
              " 'modi was born': 268,\n",
              " 'was born and': 450,\n",
              " 'born and raised': 55,\n",
              " 'and raised in': 24,\n",
              " 'raised in vadnagar': 335,\n",
              " 'in vadnagar in': 203,\n",
              " 'vadnagar in northeastern': 443,\n",
              " 'in northeastern gujarat': 197,\n",
              " 'northeastern gujarat where': 285,\n",
              " 'gujarat where he': 125,\n",
              " 'where he completed': 464,\n",
              " 'he completed his': 148,\n",
              " 'completed his secondary': 75,\n",
              " 'his secondary education': 180,\n",
              " 'he was': 160,\n",
              " 'was introduced': 453,\n",
              " 'introduced to': 220,\n",
              " 'to the': 426,\n",
              " 'the rss': 405,\n",
              " 'rss at': 353,\n",
              " 'at age': 37,\n",
              " 'age eight': 10,\n",
              " 'he was introduced': 161,\n",
              " 'was introduced to': 454,\n",
              " 'introduced to the': 221,\n",
              " 'to the rss': 429,\n",
              " 'the rss at': 407,\n",
              " 'rss at age': 354,\n",
              " 'at age eight': 38,\n",
              " 'he has': 153,\n",
              " 'has discussed': 132,\n",
              " 'discussed having': 88,\n",
              " 'having to': 141,\n",
              " 'to work': 430,\n",
              " 'work as': 477,\n",
              " 'as child': 27,\n",
              " 'child in': 70,\n",
              " 'in his': 192,\n",
              " 'his father': 173,\n",
              " 'father tea': 96,\n",
              " 'tea stall': 379,\n",
              " 'stall in': 371,\n",
              " 'in the': 200,\n",
              " 'the vadnagar': 412,\n",
              " 'vadnagar railway': 444,\n",
              " 'railway station': 332,\n",
              " 'station which': 375,\n",
              " 'which has': 465,\n",
              " 'has not': 136,\n",
              " 'not been': 288,\n",
              " 'been reliably': 44,\n",
              " 'reliably corroborated': 340,\n",
              " 'he has discussed': 154,\n",
              " 'has discussed having': 133,\n",
              " 'discussed having to': 89,\n",
              " 'having to work': 142,\n",
              " 'to work as': 431,\n",
              " 'work as child': 478,\n",
              " 'as child in': 28,\n",
              " 'child in his': 71,\n",
              " 'in his father': 193,\n",
              " 'his father tea': 174,\n",
              " 'father tea stall': 97,\n",
              " 'tea stall in': 380,\n",
              " 'stall in the': 372,\n",
              " 'in the vadnagar': 201,\n",
              " 'the vadnagar railway': 413,\n",
              " 'vadnagar railway station': 445,\n",
              " 'railway station which': 333,\n",
              " 'station which has': 376,\n",
              " 'which has not': 466,\n",
              " 'has not been': 137,\n",
              " 'not been reliably': 289,\n",
              " 'been reliably corroborated': 45,\n",
              " 'age modi': 11,\n",
              " 'was married': 455,\n",
              " 'married to': 245,\n",
              " 'to jashodaben': 424,\n",
              " 'jashodaben chimanlal': 231,\n",
              " 'chimanlal modi': 72,\n",
              " 'modi whom': 273,\n",
              " 'whom he': 467,\n",
              " 'he abandoned': 143,\n",
              " 'abandoned soon': 0,\n",
              " 'soon after': 370,\n",
              " 'at age modi': 39,\n",
              " 'age modi was': 12,\n",
              " 'modi was married': 269,\n",
              " 'was married to': 456,\n",
              " 'married to jashodaben': 246,\n",
              " 'to jashodaben chimanlal': 425,\n",
              " 'jashodaben chimanlal modi': 232,\n",
              " 'chimanlal modi whom': 73,\n",
              " 'modi whom he': 274,\n",
              " 'whom he abandoned': 468,\n",
              " 'he abandoned soon': 144,\n",
              " 'abandoned soon after': 1,\n",
              " 'he first': 149,\n",
              " 'first publicly': 102,\n",
              " 'publicly acknowledged': 330,\n",
              " 'acknowledged her': 2,\n",
              " 'her as': 164,\n",
              " 'as his': 29,\n",
              " 'his wife': 183,\n",
              " 'wife more': 469,\n",
              " 'more than': 275,\n",
              " 'than four': 383,\n",
              " 'four decades': 108,\n",
              " 'decades later': 82,\n",
              " 'later when': 233,\n",
              " 'when required': 461,\n",
              " 'required to': 343,\n",
              " 'to do': 418,\n",
              " 'do so': 90,\n",
              " 'so by': 368,\n",
              " 'by indian': 62,\n",
              " 'indian law': 211,\n",
              " 'law but': 235,\n",
              " 'but has': 60,\n",
              " 'has made': 134,\n",
              " 'made no': 243,\n",
              " 'no contact': 282,\n",
              " 'contact with': 76,\n",
              " 'with her': 473,\n",
              " 'her since': 166,\n",
              " 'he first publicly': 150,\n",
              " 'first publicly acknowledged': 103,\n",
              " 'publicly acknowledged her': 331,\n",
              " 'acknowledged her as': 3,\n",
              " 'her as his': 165,\n",
              " 'as his wife': 30,\n",
              " 'his wife more': 184,\n",
              " 'wife more than': 470,\n",
              " 'more than four': 276,\n",
              " 'than four decades': 384,\n",
              " 'four decades later': 109,\n",
              " 'decades later when': 83,\n",
              " 'later when required': 234,\n",
              " 'when required to': 462,\n",
              " 'required to do': 344,\n",
              " 'to do so': 419,\n",
              " 'do so by': 91,\n",
              " 'so by indian': 369,\n",
              " 'by indian law': 63,\n",
              " 'indian law but': 212,\n",
              " 'law but has': 236,\n",
              " 'but has made': 61,\n",
              " 'has made no': 135,\n",
              " 'made no contact': 244,\n",
              " 'no contact with': 283,\n",
              " 'contact with her': 77,\n",
              " 'with her since': 474,\n",
              " 'modi has': 263,\n",
              " 'has asserted': 130,\n",
              " 'asserted he': 33,\n",
              " 'he had': 151,\n",
              " 'had travelled': 128,\n",
              " 'travelled in': 432,\n",
              " 'in northern': 198,\n",
              " 'northern india': 286,\n",
              " 'india for': 206,\n",
              " 'for two': 106,\n",
              " 'two years': 436,\n",
              " 'years after': 481,\n",
              " 'after leaving': 6,\n",
              " 'leaving his': 237,\n",
              " 'his parental': 175,\n",
              " 'parental home': 313,\n",
              " 'home visiting': 185,\n",
              " 'visiting number': 446,\n",
              " 'number of': 290,\n",
              " 'of religious': 304,\n",
              " 'religious centres': 341,\n",
              " 'centres but': 66,\n",
              " 'but few': 58,\n",
              " 'few details': 98,\n",
              " 'details of': 86,\n",
              " 'of his': 298,\n",
              " 'his travels': 181,\n",
              " 'travels have': 434,\n",
              " 'have emerged': 140,\n",
              " 'modi has asserted': 264,\n",
              " 'has asserted he': 131,\n",
              " 'asserted he had': 34,\n",
              " 'he had travelled': 152,\n",
              " 'had travelled in': 129,\n",
              " 'travelled in northern': 433,\n",
              " 'in northern india': 199,\n",
              " 'northern india for': 287,\n",
              " 'india for two': 207,\n",
              " 'for two years': 107,\n",
              " 'two years after': 437,\n",
              " 'years after leaving': 482,\n",
              " 'after leaving his': 7,\n",
              " 'leaving his parental': 238,\n",
              " 'his parental home': 176,\n",
              " 'parental home visiting': 314,\n",
              " 'home visiting number': 186,\n",
              " 'visiting number of': 447,\n",
              " 'number of religious': 291,\n",
              " 'of religious centres': 305,\n",
              " 'religious centres but': 342,\n",
              " 'centres but few': 67,\n",
              " 'but few details': 59,\n",
              " 'few details of': 99,\n",
              " 'details of his': 87,\n",
              " 'of his travels': 299,\n",
              " 'his travels have': 182,\n",
              " 'travels have emerged': 435,\n",
              " 'upon his': 440,\n",
              " 'his return': 177,\n",
              " 'return to': 345,\n",
              " 'to gujarat': 420,\n",
              " 'gujarat in': 122,\n",
              " 'in he': 190,\n",
              " 'he became': 145,\n",
              " 'became full': 40,\n",
              " 'full time': 115,\n",
              " 'time worker': 414,\n",
              " 'worker for': 479,\n",
              " 'for the': 104,\n",
              " 'upon his return': 441,\n",
              " 'his return to': 178,\n",
              " 'return to gujarat': 346,\n",
              " 'to gujarat in': 421,\n",
              " 'gujarat in he': 123,\n",
              " 'in he became': 191,\n",
              " 'he became full': 146,\n",
              " 'became full time': 41,\n",
              " 'full time worker': 116,\n",
              " 'time worker for': 415,\n",
              " 'worker for the': 480,\n",
              " 'for the rss': 105,\n",
              " 'after the': 8,\n",
              " 'the state': 408,\n",
              " 'state of': 373,\n",
              " 'of emergency': 292,\n",
              " 'emergency was': 92,\n",
              " 'was declared': 451,\n",
              " 'declared by': 84,\n",
              " 'by prime': 64,\n",
              " 'minister indira': 252,\n",
              " 'indira gandhi': 217,\n",
              " 'gandhi in': 117,\n",
              " 'in modi': 194,\n",
              " 'modi went': 271,\n",
              " 'went into': 459,\n",
              " 'into hiding': 219,\n",
              " 'after the state': 9,\n",
              " 'the state of': 409,\n",
              " 'state of emergency': 374,\n",
              " 'of emergency was': 293,\n",
              " 'emergency was declared': 93,\n",
              " 'was declared by': 452,\n",
              " 'declared by prime': 85,\n",
              " 'by prime minister': 65,\n",
              " 'prime minister indira': 327,\n",
              " 'minister indira gandhi': 253,\n",
              " 'indira gandhi in': 218,\n",
              " 'gandhi in modi': 118,\n",
              " 'in modi went': 195,\n",
              " 'modi went into': 272,\n",
              " 'went into hiding': 460,\n",
              " 'rss assigned': 351,\n",
              " 'assigned him': 35,\n",
              " 'him to': 169,\n",
              " 'the bjp': 387,\n",
              " 'bjp in': 50,\n",
              " 'and he': 17,\n",
              " 'he held': 155,\n",
              " 'held several': 162,\n",
              " 'several positions': 366,\n",
              " 'positions within': 323,\n",
              " 'within the': 475,\n",
              " 'the party': 399,\n",
              " 'party hierarchy': 319,\n",
              " 'hierarchy until': 167,\n",
              " 'until rising': 438,\n",
              " 'rising to': 349,\n",
              " 'the rank': 401,\n",
              " 'rank of': 336,\n",
              " 'of general': 294,\n",
              " 'general secretary': 119,\n",
              " 'the rss assigned': 406,\n",
              " 'rss assigned him': 352,\n",
              " 'assigned him to': 36,\n",
              " 'him to the': 170,\n",
              " 'to the bjp': 427,\n",
              " 'the bjp in': 388,\n",
              " 'bjp in and': 51,\n",
              " 'in and he': 188,\n",
              " 'and he held': 18,\n",
              " 'he held several': 156,\n",
              " 'held several positions': 163,\n",
              " 'several positions within': 367,\n",
              " 'positions within the': 324,\n",
              " 'within the party': 476,\n",
              " 'the party hierarchy': 400,\n",
              " 'party hierarchy until': 320,\n",
              " 'hierarchy until rising': 168,\n",
              " 'until rising to': 439,\n",
              " 'rising to the': 350,\n",
              " 'to the rank': 428,\n",
              " 'the rank of': 402,\n",
              " 'rank of general': 337,\n",
              " 'of general secretary': 295}"
            ]
          },
          "metadata": {},
          "execution_count": 19
        }
      ]
    },
    {
      "cell_type": "code",
      "source": [
        "X[0].toarray()"
      ],
      "metadata": {
        "colab": {
          "base_uri": "https://localhost:8080/"
        },
        "id": "Ra_nq8rT5QoE",
        "outputId": "8d07bc29-b438-49e5-c45b-1a0794b9c4c7"
      },
      "execution_count": 20,
      "outputs": [
        {
          "output_type": "execute_result",
          "data": {
            "text/plain": [
              "array([[0, 0, 0, 0, 0, 0, 0, 0, 0, 0, 0, 0, 0, 1, 1, 1, 1, 0, 0, 0, 0, 0,\n",
              "        0, 0, 0, 0, 0, 0, 0, 0, 0, 1, 1, 0, 0, 0, 0, 0, 0, 0, 0, 0, 0, 0,\n",
              "        0, 0, 0, 0, 0, 0, 0, 0, 0, 0, 0, 0, 1, 1, 0, 0, 0, 0, 0, 0, 0, 0,\n",
              "        0, 0, 0, 0, 0, 0, 0, 0, 0, 0, 0, 0, 1, 1, 1, 1, 0, 0, 0, 0, 0, 0,\n",
              "        0, 0, 0, 0, 0, 0, 1, 1, 0, 0, 0, 0, 0, 0, 0, 0, 0, 0, 0, 0, 0, 0,\n",
              "        0, 0, 0, 0, 0, 0, 0, 0, 0, 0, 0, 0, 0, 0, 0, 0, 1, 1, 0, 0, 0, 0,\n",
              "        0, 0, 0, 0, 0, 0, 0, 0, 0, 0, 0, 0, 0, 0, 0, 0, 0, 0, 0, 0, 0, 0,\n",
              "        0, 0, 0, 0, 0, 0, 0, 0, 0, 0, 0, 0, 0, 0, 0, 0, 0, 0, 0, 0, 0, 0,\n",
              "        0, 0, 0, 0, 0, 0, 0, 0, 0, 0, 0, 0, 0, 0, 0, 0, 0, 0, 0, 0, 0, 0,\n",
              "        0, 0, 0, 0, 0, 0, 0, 0, 0, 0, 0, 0, 1, 0, 0, 0, 0, 1, 1, 0, 0, 0,\n",
              "        0, 0, 1, 1, 0, 0, 0, 0, 0, 0, 0, 0, 0, 0, 0, 0, 0, 0, 0, 1, 1, 0,\n",
              "        0, 0, 0, 0, 0, 0, 0, 0, 0, 0, 0, 0, 1, 0, 1, 0, 0, 1, 1, 1, 1, 0,\n",
              "        0, 1, 1, 0, 0, 0, 0, 0, 0, 0, 0, 0, 0, 1, 1, 0, 0, 0, 0, 0, 0, 0,\n",
              "        0, 0, 0, 0, 0, 0, 0, 0, 0, 0, 0, 0, 0, 0, 1, 1, 0, 0, 0, 0, 0, 0,\n",
              "        0, 0, 0, 0, 0, 0, 0, 0, 0, 0, 0, 0, 0, 1, 1, 0, 0, 1, 0, 0, 1, 0,\n",
              "        0, 0, 0, 0, 0, 0, 0, 0, 0, 0, 0, 0, 0, 0, 0, 0, 0, 0, 0, 0, 0, 0,\n",
              "        0, 0, 0, 0, 0, 0, 0, 0, 1, 1, 1, 1, 0, 0, 0, 0, 0, 0, 0, 0, 0, 0,\n",
              "        0, 0, 0, 0, 0, 0, 0, 1, 1, 0, 0, 0, 0, 0, 0, 0, 0, 0, 0, 0, 0, 0,\n",
              "        0, 0, 0, 0, 0, 0, 0, 0, 0, 0, 0, 0, 0, 0, 1, 1, 0, 0, 0, 0, 0, 0,\n",
              "        0, 0, 0, 0, 0, 0, 0, 0, 0, 0, 0, 0, 0, 0, 0, 0, 0, 0, 0, 0, 0, 0,\n",
              "        0, 0, 0, 0, 0, 0, 0, 0, 0, 0, 0, 0, 0, 0, 0, 0, 0, 0, 0, 0, 0, 0,\n",
              "        0, 0, 0, 0, 0, 0, 0, 0, 0, 0, 0, 0, 0, 0, 0, 0, 0, 0, 0, 0, 0]])"
            ]
          },
          "metadata": {},
          "execution_count": 20
        }
      ]
    },
    {
      "cell_type": "markdown",
      "source": [
        "## TFIDF"
      ],
      "metadata": {
        "id": "WFQIbVM5tKLf"
      }
    },
    {
      "cell_type": "code",
      "source": [
        "from sklearn.feature_extraction.text import TfidfVectorizer\n",
        "cv = TfidfVectorizer(ngram_range=(1,1),max_features=10)\n",
        "X = cv.fit_transform(corpus)"
      ],
      "metadata": {
        "id": "UwSxWRpT5Z8o"
      },
      "execution_count": 38,
      "outputs": []
    },
    {
      "cell_type": "code",
      "source": [
        "corpus[0]"
      ],
      "metadata": {
        "id": "4pdQd-MXsyjw",
        "colab": {
          "base_uri": "https://localhost:8080/",
          "height": 53
        },
        "outputId": "d0bc2098-eb48-451e-a307-b9354cbbe420"
      },
      "execution_count": 39,
      "outputs": [
        {
          "output_type": "execute_result",
          "data": {
            "text/plain": [
              "' narendra damodardas modi  gujarati    n  end   d mod   d s  modi    listen   born    september       b  is an indian politician serving as the   th and current prime minister of india since      '"
            ],
            "application/vnd.google.colaboratory.intrinsic+json": {
              "type": "string"
            }
          },
          "metadata": {},
          "execution_count": 39
        }
      ]
    },
    {
      "cell_type": "code",
      "source": [
        "X[0].toarray()"
      ],
      "metadata": {
        "colab": {
          "base_uri": "https://localhost:8080/"
        },
        "id": "7y1NmkEGl1sS",
        "outputId": "f5848069-c20e-450c-e106-0aca91220ead"
      },
      "execution_count": 40,
      "outputs": [
        {
          "output_type": "execute_result",
          "data": {
            "text/plain": [
              "array([[0.35235521, 0.        , 0.        , 0.        , 0.41963576,\n",
              "        0.70471043, 0.35235521, 0.28103496, 0.        , 0.        ]])"
            ]
          },
          "metadata": {},
          "execution_count": 40
        }
      ]
    },
    {
      "cell_type": "code",
      "source": [],
      "metadata": {
        "id": "CerEicthl7x6"
      },
      "execution_count": 40,
      "outputs": []
    }
  ]
}