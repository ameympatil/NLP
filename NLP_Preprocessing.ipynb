{
  "nbformat": 4,
  "nbformat_minor": 0,
  "metadata": {
    "colab": {
      "provenance": [],
      "authorship_tag": "ABX9TyM5V7qzOEDtY5LsksA3X8DA",
      "include_colab_link": true
    },
    "kernelspec": {
      "name": "python3",
      "display_name": "Python 3"
    },
    "language_info": {
      "name": "python"
    }
  },
  "cells": [
    {
      "cell_type": "markdown",
      "metadata": {
        "id": "view-in-github",
        "colab_type": "text"
      },
      "source": [
        "<a href=\"https://colab.research.google.com/github/ameympatil/NLP/blob/main/NLP_Preprocessing.ipynb\" target=\"_parent\"><img src=\"https://colab.research.google.com/assets/colab-badge.svg\" alt=\"Open In Colab\"/></a>"
      ]
    },
    {
      "cell_type": "code",
      "execution_count": 105,
      "metadata": {
        "id": "qm-sm0QWr92m"
      },
      "outputs": [],
      "source": [
        "#!pip install nltk"
      ]
    },
    {
      "cell_type": "code",
      "source": [
        "paragrapgh = \"\"\"\n",
        "Narendra Damodardas Modi (Gujarati: [ˈnəɾendɾə dɑmodəɾˈdɑs ˈmodiː] (listen); born 17 September 1950)[b] is an Indian politician serving as the 14th and current prime minister of India since 2014. Modi was the chief minister of Gujarat from 2001 to 2014 and is the Member of Parliament from Varanasi. He is a member of the Bharatiya Janata Party (BJP) and of the Rashtriya Swayamsevak Sangh (RSS), a right-wing Hindu nationalist paramilitary volunteer organisation. He is the first prime minister to have been born after India's independence in 1947 and the longest serving prime minister from outside the Indian National Congress.\n",
        "\n",
        "Modi was born and raised in Vadnagar in northeastern Gujarat, where he completed his secondary education. He was introduced to the RSS at age eight. He has discussed having to work as a child in his father's tea stall in the Vadnagar railway station, which has not been reliably corroborated. At age 18, Modi was married to Jashodaben Chimanlal Modi, whom he abandoned soon after. He first publicly acknowledged her as his wife more than four decades later when required to do so by Indian law, but has made no contact with her since. Modi has asserted he had travelled in northern India for two years after leaving his parental home, visiting a number of religious centres, but few details of his travels have emerged. Upon his return to Gujarat in 1971, he became a full-time worker for the RSS. After the state of emergency was declared by prime minister Indira Gandhi in 1975, Modi went into hiding. The RSS assigned him to the BJP in 1985 and he held several positions within the party hierarchy until 2001, rising to the rank of general secretary.[c]\n",
        "\"\"\""
      ],
      "metadata": {
        "id": "Mo7raLFGsKkp"
      },
      "execution_count": 106,
      "outputs": []
    },
    {
      "cell_type": "code",
      "source": [
        "paragrapgh"
      ],
      "metadata": {
        "colab": {
          "base_uri": "https://localhost:8080/",
          "height": 123
        },
        "id": "RnIWs_GlszhJ",
        "outputId": "a4c7098b-b0c2-4d4d-9030-1891369e83ef"
      },
      "execution_count": 107,
      "outputs": [
        {
          "output_type": "execute_result",
          "data": {
            "text/plain": [
              "\"\\nNarendra Damodardas Modi (Gujarati: [ˈnəɾendɾə dɑmodəɾˈdɑs ˈmodiː] (listen); born 17 September 1950)[b] is an Indian politician serving as the 14th and current prime minister of India since 2014. Modi was the chief minister of Gujarat from 2001 to 2014 and is the Member of Parliament from Varanasi. He is a member of the Bharatiya Janata Party (BJP) and of the Rashtriya Swayamsevak Sangh (RSS), a right-wing Hindu nationalist paramilitary volunteer organisation. He is the first prime minister to have been born after India's independence in 1947 and the longest serving prime minister from outside the Indian National Congress.\\n\\nModi was born and raised in Vadnagar in northeastern Gujarat, where he completed his secondary education. He was introduced to the RSS at age eight. He has discussed having to work as a child in his father's tea stall in the Vadnagar railway station, which has not been reliably corroborated. At age 18, Modi was married to Jashodaben Chimanlal Modi, whom he abandoned soon after. He first publicly acknowledged her as his wife more than four decades later when required to do so by Indian law, but has made no contact with her since. Modi has asserted he had travelled in northern India for two years after leaving his parental home, visiting a number of religious centres, but few details of his travels have emerged. Upon his return to Gujarat in 1971, he became a full-time worker for the RSS. After the state of emergency was declared by prime minister Indira Gandhi in 1975, Modi went into hiding. The RSS assigned him to the BJP in 1985 and he held several positions within the party hierarchy until 2001, rising to the rank of general secretary.[c]\\n\""
            ],
            "application/vnd.google.colaboratory.intrinsic+json": {
              "type": "string"
            }
          },
          "metadata": {},
          "execution_count": 107
        }
      ]
    },
    {
      "cell_type": "code",
      "source": [
        "import nltk\n",
        "from nltk.stem import PorterStemmer # for stemming use\n",
        "from nltk.corpus import stopwords #for stopwords"
      ],
      "metadata": {
        "id": "-i6CyZGZs2ph"
      },
      "execution_count": 108,
      "outputs": []
    },
    {
      "cell_type": "markdown",
      "source": [
        "## Tokenization\n",
        "converts paragrapgh into sentences then into words"
      ],
      "metadata": {
        "id": "KEuif5zotznO"
      }
    },
    {
      "cell_type": "code",
      "source": [
        "#nltk.download('punkt')\n",
        "sentences = nltk.sent_tokenize(paragrapgh)"
      ],
      "metadata": {
        "id": "_uikHqY7tHfZ"
      },
      "execution_count": 109,
      "outputs": []
    },
    {
      "cell_type": "code",
      "source": [
        "sentences"
      ],
      "metadata": {
        "colab": {
          "base_uri": "https://localhost:8080/"
        },
        "id": "asYbMrGNuZD1",
        "outputId": "ab1eed43-d6d9-4cab-8df9-1c94292e0988"
      },
      "execution_count": 110,
      "outputs": [
        {
          "output_type": "execute_result",
          "data": {
            "text/plain": [
              "['\\nNarendra Damodardas Modi (Gujarati: [ˈnəɾendɾə dɑmodəɾˈdɑs ˈmodiː] (listen); born 17 September 1950)[b] is an Indian politician serving as the 14th and current prime minister of India since 2014.',\n",
              " 'Modi was the chief minister of Gujarat from 2001 to 2014 and is the Member of Parliament from Varanasi.',\n",
              " 'He is a member of the Bharatiya Janata Party (BJP) and of the Rashtriya Swayamsevak Sangh (RSS), a right-wing Hindu nationalist paramilitary volunteer organisation.',\n",
              " \"He is the first prime minister to have been born after India's independence in 1947 and the longest serving prime minister from outside the Indian National Congress.\",\n",
              " 'Modi was born and raised in Vadnagar in northeastern Gujarat, where he completed his secondary education.',\n",
              " 'He was introduced to the RSS at age eight.',\n",
              " \"He has discussed having to work as a child in his father's tea stall in the Vadnagar railway station, which has not been reliably corroborated.\",\n",
              " 'At age 18, Modi was married to Jashodaben Chimanlal Modi, whom he abandoned soon after.',\n",
              " 'He first publicly acknowledged her as his wife more than four decades later when required to do so by Indian law, but has made no contact with her since.',\n",
              " 'Modi has asserted he had travelled in northern India for two years after leaving his parental home, visiting a number of religious centres, but few details of his travels have emerged.',\n",
              " 'Upon his return to Gujarat in 1971, he became a full-time worker for the RSS.',\n",
              " 'After the state of emergency was declared by prime minister Indira Gandhi in 1975, Modi went into hiding.',\n",
              " 'The RSS assigned him to the BJP in 1985 and he held several positions within the party hierarchy until 2001, rising to the rank of general secretary.',\n",
              " '[c]']"
            ]
          },
          "metadata": {},
          "execution_count": 110
        }
      ]
    },
    {
      "cell_type": "code",
      "source": [
        "type(sentences)"
      ],
      "metadata": {
        "colab": {
          "base_uri": "https://localhost:8080/"
        },
        "id": "PEEiCq0CupqH",
        "outputId": "85aba778-4671-470e-b501-3f4dafaca8ca"
      },
      "execution_count": 111,
      "outputs": [
        {
          "output_type": "execute_result",
          "data": {
            "text/plain": [
              "list"
            ]
          },
          "metadata": {},
          "execution_count": 111
        }
      ]
    },
    {
      "cell_type": "markdown",
      "source": [
        "## Stemming\n",
        "Converting words to short form"
      ],
      "metadata": {
        "id": "llV77rvevsfr"
      }
    },
    {
      "cell_type": "code",
      "source": [
        "stemmer = PorterStemmer()"
      ],
      "metadata": {
        "id": "ZL3uXGymuxa4"
      },
      "execution_count": 112,
      "outputs": []
    },
    {
      "cell_type": "code",
      "source": [
        "stemmer.stem('going')"
      ],
      "metadata": {
        "colab": {
          "base_uri": "https://localhost:8080/",
          "height": 36
        },
        "id": "bYYsQiV9vHut",
        "outputId": "bf29f855-7c40-4cf5-d087-320e27dffb4d"
      },
      "execution_count": 113,
      "outputs": [
        {
          "output_type": "execute_result",
          "data": {
            "text/plain": [
              "'go'"
            ],
            "application/vnd.google.colaboratory.intrinsic+json": {
              "type": "string"
            }
          },
          "metadata": {},
          "execution_count": 113
        }
      ]
    },
    {
      "cell_type": "markdown",
      "source": [
        "## Lemmitization\n",
        "Gives meaningfull words"
      ],
      "metadata": {
        "id": "vUbboC1bv2Rm"
      }
    },
    {
      "cell_type": "code",
      "source": [
        "from nltk.stem import WordNetLemmatizer"
      ],
      "metadata": {
        "id": "3GB2eLXFvLyS"
      },
      "execution_count": 114,
      "outputs": []
    },
    {
      "cell_type": "code",
      "source": [
        "lemmatizer = WordNetLemmatizer()\n",
        "#nltk.download('wordnet')\n",
        "#nltk.download('omw-1.4')\n",
        "lemmatizer.lemmatize('going')"
      ],
      "metadata": {
        "colab": {
          "base_uri": "https://localhost:8080/",
          "height": 36
        },
        "id": "W5wNeZUGwDug",
        "outputId": "dc4893ce-280f-4071-bb6e-735d6aac9075"
      },
      "execution_count": 115,
      "outputs": [
        {
          "output_type": "execute_result",
          "data": {
            "text/plain": [
              "'going'"
            ],
            "application/vnd.google.colaboratory.intrinsic+json": {
              "type": "string"
            }
          },
          "metadata": {},
          "execution_count": 115
        }
      ]
    },
    {
      "cell_type": "code",
      "source": [
        "len(sentences)"
      ],
      "metadata": {
        "colab": {
          "base_uri": "https://localhost:8080/"
        },
        "id": "dGVKwPgIxkoB",
        "outputId": "0150ec0b-1adc-49d8-bf76-291afb7fcf05"
      },
      "execution_count": 116,
      "outputs": [
        {
          "output_type": "execute_result",
          "data": {
            "text/plain": [
              "14"
            ]
          },
          "metadata": {},
          "execution_count": 116
        }
      ]
    },
    {
      "cell_type": "markdown",
      "source": [
        "## Cleaning Data using Regular Expression"
      ],
      "metadata": {
        "id": "j5LqCbxAze6W"
      }
    },
    {
      "cell_type": "code",
      "source": [
        "import re\n",
        "corpus = []\n",
        "\n",
        "for i in range(len(sentences)):\n",
        "  review = re.sub('[^a-zA-Z]',' ',sentences[i])\n",
        "  review = review.lower()\n",
        "  corpus.append(review)"
      ],
      "metadata": {
        "id": "cW-tXvR9wfKX"
      },
      "execution_count": 117,
      "outputs": []
    },
    {
      "cell_type": "code",
      "source": [
        "corpus"
      ],
      "metadata": {
        "colab": {
          "base_uri": "https://localhost:8080/"
        },
        "id": "A6Ea47LexwVM",
        "outputId": "b00ebec4-e233-45f8-f44b-08f8ccdd08d8"
      },
      "execution_count": 118,
      "outputs": [
        {
          "output_type": "execute_result",
          "data": {
            "text/plain": [
              "[' narendra damodardas modi  gujarati    n  end   d mod   d s  modi    listen   born    september       b  is an indian politician serving as the   th and current prime minister of india since      ',\n",
              " 'modi was the chief minister of gujarat from      to      and is the member of parliament from varanasi ',\n",
              " 'he is a member of the bharatiya janata party  bjp  and of the rashtriya swayamsevak sangh  rss   a right wing hindu nationalist paramilitary volunteer organisation ',\n",
              " 'he is the first prime minister to have been born after india s independence in      and the longest serving prime minister from outside the indian national congress ',\n",
              " 'modi was born and raised in vadnagar in northeastern gujarat  where he completed his secondary education ',\n",
              " 'he was introduced to the rss at age eight ',\n",
              " 'he has discussed having to work as a child in his father s tea stall in the vadnagar railway station  which has not been reliably corroborated ',\n",
              " 'at age     modi was married to jashodaben chimanlal modi  whom he abandoned soon after ',\n",
              " 'he first publicly acknowledged her as his wife more than four decades later when required to do so by indian law  but has made no contact with her since ',\n",
              " 'modi has asserted he had travelled in northern india for two years after leaving his parental home  visiting a number of religious centres  but few details of his travels have emerged ',\n",
              " 'upon his return to gujarat in       he became a full time worker for the rss ',\n",
              " 'after the state of emergency was declared by prime minister indira gandhi in       modi went into hiding ',\n",
              " 'the rss assigned him to the bjp in      and he held several positions within the party hierarchy until       rising to the rank of general secretary ',\n",
              " ' c ']"
            ]
          },
          "metadata": {},
          "execution_count": 118
        }
      ]
    },
    {
      "cell_type": "code",
      "source": [
        "#Stemming\n",
        "from nltk.stem import PorterStemmer\n",
        "stemmer = PorterStemmer()\n",
        "words = []\n",
        "for i in corpus:\n",
        "  words = nltk.word_tokenize(i)\n",
        "  for i in words:\n",
        "    if i not in set(stopwords.words('english')):\n",
        "      print(stemmer.stem(i))"
      ],
      "metadata": {
        "colab": {
          "base_uri": "https://localhost:8080/"
        },
        "id": "g6tV6ruZybSz",
        "outputId": "ac388953-be9a-41a3-d61d-9026b36f4c4d"
      },
      "execution_count": 119,
      "outputs": [
        {
          "output_type": "stream",
          "name": "stdout",
          "text": [
            "narendra\n",
            "damodarda\n",
            "modi\n",
            "gujarati\n",
            "n\n",
            "end\n",
            "mod\n",
            "modi\n",
            "listen\n",
            "born\n",
            "septemb\n",
            "b\n",
            "indian\n",
            "politician\n",
            "serv\n",
            "th\n",
            "current\n",
            "prime\n",
            "minist\n",
            "india\n",
            "sinc\n",
            "modi\n",
            "chief\n",
            "minist\n",
            "gujarat\n",
            "member\n",
            "parliament\n",
            "varanasi\n",
            "member\n",
            "bharatiya\n",
            "janata\n",
            "parti\n",
            "bjp\n",
            "rashtriya\n",
            "swayamsevak\n",
            "sangh\n",
            "rss\n",
            "right\n",
            "wing\n",
            "hindu\n",
            "nationalist\n",
            "paramilitari\n",
            "volunt\n",
            "organis\n",
            "first\n",
            "prime\n",
            "minist\n",
            "born\n",
            "india\n",
            "independ\n",
            "longest\n",
            "serv\n",
            "prime\n",
            "minist\n",
            "outsid\n",
            "indian\n",
            "nation\n",
            "congress\n",
            "modi\n",
            "born\n",
            "rais\n",
            "vadnagar\n",
            "northeastern\n",
            "gujarat\n",
            "complet\n",
            "secondari\n",
            "educ\n",
            "introduc\n",
            "rss\n",
            "age\n",
            "eight\n",
            "discuss\n",
            "work\n",
            "child\n",
            "father\n",
            "tea\n",
            "stall\n",
            "vadnagar\n",
            "railway\n",
            "station\n",
            "reliabl\n",
            "corrobor\n",
            "age\n",
            "modi\n",
            "marri\n",
            "jashodaben\n",
            "chimanl\n",
            "modi\n",
            "abandon\n",
            "soon\n",
            "first\n",
            "publicli\n",
            "acknowledg\n",
            "wife\n",
            "four\n",
            "decad\n",
            "later\n",
            "requir\n",
            "indian\n",
            "law\n",
            "made\n",
            "contact\n",
            "sinc\n",
            "modi\n",
            "assert\n",
            "travel\n",
            "northern\n",
            "india\n",
            "two\n",
            "year\n",
            "leav\n",
            "parent\n",
            "home\n",
            "visit\n",
            "number\n",
            "religi\n",
            "centr\n",
            "detail\n",
            "travel\n",
            "emerg\n",
            "upon\n",
            "return\n",
            "gujarat\n",
            "becam\n",
            "full\n",
            "time\n",
            "worker\n",
            "rss\n",
            "state\n",
            "emerg\n",
            "declar\n",
            "prime\n",
            "minist\n",
            "indira\n",
            "gandhi\n",
            "modi\n",
            "went\n",
            "hide\n",
            "rss\n",
            "assign\n",
            "bjp\n",
            "held\n",
            "sever\n",
            "posit\n",
            "within\n",
            "parti\n",
            "hierarchi\n",
            "rise\n",
            "rank\n",
            "gener\n",
            "secretari\n",
            "c\n"
          ]
        }
      ]
    },
    {
      "cell_type": "code",
      "source": [
        "#Lemmatization\n",
        "from nltk.stem import WordNetLemmatizer\n",
        "le = WordNetLemmatizer()\n",
        "\n",
        "for i in corpus:\n",
        "  words = nltk.word_tokenize(i)\n",
        "  for j in words:\n",
        "    if j not in set(stopwords.words('english')):\n",
        "      print(le.lemmatize(j))"
      ],
      "metadata": {
        "colab": {
          "base_uri": "https://localhost:8080/"
        },
        "id": "wl-hpHBj15_r",
        "outputId": "851bc288-76d6-4b94-863b-3a5a83cee245"
      },
      "execution_count": 120,
      "outputs": [
        {
          "output_type": "stream",
          "name": "stdout",
          "text": [
            "narendra\n",
            "damodardas\n",
            "modi\n",
            "gujarati\n",
            "n\n",
            "end\n",
            "mod\n",
            "modi\n",
            "listen\n",
            "born\n",
            "september\n",
            "b\n",
            "indian\n",
            "politician\n",
            "serving\n",
            "th\n",
            "current\n",
            "prime\n",
            "minister\n",
            "india\n",
            "since\n",
            "modi\n",
            "chief\n",
            "minister\n",
            "gujarat\n",
            "member\n",
            "parliament\n",
            "varanasi\n",
            "member\n",
            "bharatiya\n",
            "janata\n",
            "party\n",
            "bjp\n",
            "rashtriya\n",
            "swayamsevak\n",
            "sangh\n",
            "r\n",
            "right\n",
            "wing\n",
            "hindu\n",
            "nationalist\n",
            "paramilitary\n",
            "volunteer\n",
            "organisation\n",
            "first\n",
            "prime\n",
            "minister\n",
            "born\n",
            "india\n",
            "independence\n",
            "longest\n",
            "serving\n",
            "prime\n",
            "minister\n",
            "outside\n",
            "indian\n",
            "national\n",
            "congress\n",
            "modi\n",
            "born\n",
            "raised\n",
            "vadnagar\n",
            "northeastern\n",
            "gujarat\n",
            "completed\n",
            "secondary\n",
            "education\n",
            "introduced\n",
            "r\n",
            "age\n",
            "eight\n",
            "discussed\n",
            "work\n",
            "child\n",
            "father\n",
            "tea\n",
            "stall\n",
            "vadnagar\n",
            "railway\n",
            "station\n",
            "reliably\n",
            "corroborated\n",
            "age\n",
            "modi\n",
            "married\n",
            "jashodaben\n",
            "chimanlal\n",
            "modi\n",
            "abandoned\n",
            "soon\n",
            "first\n",
            "publicly\n",
            "acknowledged\n",
            "wife\n",
            "four\n",
            "decade\n",
            "later\n",
            "required\n",
            "indian\n",
            "law\n",
            "made\n",
            "contact\n",
            "since\n",
            "modi\n",
            "asserted\n",
            "travelled\n",
            "northern\n",
            "india\n",
            "two\n",
            "year\n",
            "leaving\n",
            "parental\n",
            "home\n",
            "visiting\n",
            "number\n",
            "religious\n",
            "centre\n",
            "detail\n",
            "travel\n",
            "emerged\n",
            "upon\n",
            "return\n",
            "gujarat\n",
            "became\n",
            "full\n",
            "time\n",
            "worker\n",
            "r\n",
            "state\n",
            "emergency\n",
            "declared\n",
            "prime\n",
            "minister\n",
            "indira\n",
            "gandhi\n",
            "modi\n",
            "went\n",
            "hiding\n",
            "r\n",
            "assigned\n",
            "bjp\n",
            "held\n",
            "several\n",
            "position\n",
            "within\n",
            "party\n",
            "hierarchy\n",
            "rising\n",
            "rank\n",
            "general\n",
            "secretary\n",
            "c\n"
          ]
        }
      ]
    },
    {
      "cell_type": "markdown",
      "source": [
        "## Bag Of Words"
      ],
      "metadata": {
        "id": "tHKpMiKj48V6"
      }
    },
    {
      "cell_type": "code",
      "source": [
        "from sklearn.feature_extraction.text import CountVectorizer\n",
        "cv = CountVectorizer()"
      ],
      "metadata": {
        "id": "jYRLNRqU3yE1"
      },
      "execution_count": 121,
      "outputs": []
    },
    {
      "cell_type": "code",
      "source": [
        "X = cv.fit_transform(corpus)"
      ],
      "metadata": {
        "id": "E0e2XT_g4k02"
      },
      "execution_count": 122,
      "outputs": []
    },
    {
      "cell_type": "code",
      "source": [
        "cv.vocabulary_"
      ],
      "metadata": {
        "colab": {
          "base_uri": "https://localhost:8080/"
        },
        "id": "ApaGlCBc5HdK",
        "outputId": "6d0af122-5cb3-40ea-bec9-f6ae758f3b2c"
      },
      "execution_count": 123,
      "outputs": [
        {
          "output_type": "execute_result",
          "data": {
            "text/plain": [
              "{'narendra': 83,\n",
              " 'damodardas': 26,\n",
              " 'modi': 81,\n",
              " 'gujarati': 47,\n",
              " 'end': 36,\n",
              " 'mod': 80,\n",
              " 'listen': 74,\n",
              " 'born': 14,\n",
              " 'september': 116,\n",
              " 'is': 68,\n",
              " 'an': 4,\n",
              " 'indian': 64,\n",
              " 'politician': 98,\n",
              " 'serving': 117,\n",
              " 'as': 6,\n",
              " 'the': 129,\n",
              " 'th': 127,\n",
              " 'and': 5,\n",
              " 'current': 25,\n",
              " 'prime': 100,\n",
              " 'minister': 79,\n",
              " 'of': 91,\n",
              " 'india': 63,\n",
              " 'since': 119,\n",
              " 'was': 141,\n",
              " 'chief': 18,\n",
              " 'gujarat': 46,\n",
              " 'from': 42,\n",
              " 'to': 131,\n",
              " 'member': 78,\n",
              " 'parliament': 96,\n",
              " 'varanasi': 138,\n",
              " 'he': 52,\n",
              " 'bharatiya': 12,\n",
              " 'janata': 69,\n",
              " 'party': 97,\n",
              " 'bjp': 13,\n",
              " 'rashtriya': 105,\n",
              " 'swayamsevak': 125,\n",
              " 'sangh': 113,\n",
              " 'rss': 112,\n",
              " 'right': 110,\n",
              " 'wing': 148,\n",
              " 'hindu': 58,\n",
              " 'nationalist': 85,\n",
              " 'paramilitary': 94,\n",
              " 'volunteer': 140,\n",
              " 'organisation': 92,\n",
              " 'first': 39,\n",
              " 'have': 50,\n",
              " 'been': 11,\n",
              " 'after': 2,\n",
              " 'independence': 62,\n",
              " 'in': 61,\n",
              " 'longest': 75,\n",
              " 'outside': 93,\n",
              " 'national': 84,\n",
              " 'congress': 22,\n",
              " 'raised': 103,\n",
              " 'vadnagar': 137,\n",
              " 'northeastern': 87,\n",
              " 'where': 144,\n",
              " 'completed': 21,\n",
              " 'his': 59,\n",
              " 'secondary': 114,\n",
              " 'education': 32,\n",
              " 'introduced': 67,\n",
              " 'at': 9,\n",
              " 'age': 3,\n",
              " 'eight': 33,\n",
              " 'has': 49,\n",
              " 'discussed': 30,\n",
              " 'having': 51,\n",
              " 'work': 151,\n",
              " 'child': 19,\n",
              " 'father': 37,\n",
              " 'tea': 126,\n",
              " 'stall': 122,\n",
              " 'railway': 102,\n",
              " 'station': 124,\n",
              " 'which': 145,\n",
              " 'not': 89,\n",
              " 'reliably': 106,\n",
              " 'corroborated': 24,\n",
              " 'married': 77,\n",
              " 'jashodaben': 70,\n",
              " 'chimanlal': 20,\n",
              " 'whom': 146,\n",
              " 'abandoned': 0,\n",
              " 'soon': 121,\n",
              " 'publicly': 101,\n",
              " 'acknowledged': 1,\n",
              " 'her': 54,\n",
              " 'wife': 147,\n",
              " 'more': 82,\n",
              " 'than': 128,\n",
              " 'four': 41,\n",
              " 'decades': 27,\n",
              " 'later': 71,\n",
              " 'when': 143,\n",
              " 'required': 108,\n",
              " 'do': 31,\n",
              " 'so': 120,\n",
              " 'by': 16,\n",
              " 'law': 72,\n",
              " 'but': 15,\n",
              " 'made': 76,\n",
              " 'no': 86,\n",
              " 'contact': 23,\n",
              " 'with': 149,\n",
              " 'asserted': 7,\n",
              " 'had': 48,\n",
              " 'travelled': 132,\n",
              " 'northern': 88,\n",
              " 'for': 40,\n",
              " 'two': 134,\n",
              " 'years': 153,\n",
              " 'leaving': 73,\n",
              " 'parental': 95,\n",
              " 'home': 60,\n",
              " 'visiting': 139,\n",
              " 'number': 90,\n",
              " 'religious': 107,\n",
              " 'centres': 17,\n",
              " 'few': 38,\n",
              " 'details': 29,\n",
              " 'travels': 133,\n",
              " 'emerged': 34,\n",
              " 'upon': 136,\n",
              " 'return': 109,\n",
              " 'became': 10,\n",
              " 'full': 43,\n",
              " 'time': 130,\n",
              " 'worker': 152,\n",
              " 'state': 123,\n",
              " 'emergency': 35,\n",
              " 'declared': 28,\n",
              " 'indira': 65,\n",
              " 'gandhi': 44,\n",
              " 'went': 142,\n",
              " 'into': 66,\n",
              " 'hiding': 55,\n",
              " 'assigned': 8,\n",
              " 'him': 57,\n",
              " 'held': 53,\n",
              " 'several': 118,\n",
              " 'positions': 99,\n",
              " 'within': 150,\n",
              " 'hierarchy': 56,\n",
              " 'until': 135,\n",
              " 'rising': 111,\n",
              " 'rank': 104,\n",
              " 'general': 45,\n",
              " 'secretary': 115}"
            ]
          },
          "metadata": {},
          "execution_count": 123
        }
      ]
    },
    {
      "cell_type": "code",
      "source": [
        "X[0].toarray()"
      ],
      "metadata": {
        "colab": {
          "base_uri": "https://localhost:8080/"
        },
        "id": "Ra_nq8rT5QoE",
        "outputId": "88cd9715-cfd2-47e7-8481-6b8191fe07d3"
      },
      "execution_count": 125,
      "outputs": [
        {
          "output_type": "execute_result",
          "data": {
            "text/plain": [
              "array([[0, 0, 0, 0, 1, 1, 1, 0, 0, 0, 0, 0, 0, 0, 1, 0, 0, 0, 0, 0, 0, 0,\n",
              "        0, 0, 0, 1, 1, 0, 0, 0, 0, 0, 0, 0, 0, 0, 1, 0, 0, 0, 0, 0, 0, 0,\n",
              "        0, 0, 0, 1, 0, 0, 0, 0, 0, 0, 0, 0, 0, 0, 0, 0, 0, 0, 0, 1, 1, 0,\n",
              "        0, 0, 1, 0, 0, 0, 0, 0, 1, 0, 0, 0, 0, 1, 1, 2, 0, 1, 0, 0, 0, 0,\n",
              "        0, 0, 0, 1, 0, 0, 0, 0, 0, 0, 1, 0, 1, 0, 0, 0, 0, 0, 0, 0, 0, 0,\n",
              "        0, 0, 0, 0, 0, 0, 1, 1, 0, 1, 0, 0, 0, 0, 0, 0, 0, 1, 0, 1, 0, 0,\n",
              "        0, 0, 0, 0, 0, 0, 0, 0, 0, 0, 0, 0, 0, 0, 0, 0, 0, 0, 0, 0, 0, 0]])"
            ]
          },
          "metadata": {},
          "execution_count": 125
        }
      ]
    },
    {
      "cell_type": "code",
      "source": [],
      "metadata": {
        "id": "UwSxWRpT5Z8o"
      },
      "execution_count": null,
      "outputs": []
    }
  ]
}