{
  "cells": [
    {
      "cell_type": "markdown",
      "metadata": {
        "id": "view-in-github",
        "colab_type": "text"
      },
      "source": [
        "<a href=\"https://colab.research.google.com/github/ameympatil/NLP/blob/main/Word_embedding_Techniques.ipynb\" target=\"_parent\"><img src=\"https://colab.research.google.com/assets/colab-badge.svg\" alt=\"Open In Colab\"/></a>"
      ]
    },
    {
      "cell_type": "markdown",
      "metadata": {
        "id": "eHNf7J680XF-"
      },
      "source": [
        "### Word Embedding Techniques using Embedding Layer in Keras"
      ]
    },
    {
      "cell_type": "code",
      "execution_count": 1,
      "metadata": {
        "id": "PEsK0_yl0XGB"
      },
      "outputs": [],
      "source": [
        "### Libraries USed Tensorflow> 2.0  and keras"
      ]
    },
    {
      "cell_type": "code",
      "execution_count": 2,
      "metadata": {
        "colab": {
          "base_uri": "https://localhost:8080/"
        },
        "id": "pslw1Ya90XGC",
        "outputId": "8609b916-9425-43fc-cb6b-347228a044ab"
      },
      "outputs": [
        {
          "output_type": "stream",
          "name": "stdout",
          "text": [
            "Looking in indexes: https://pypi.org/simple, https://us-python.pkg.dev/colab-wheels/public/simple/\n",
            "Collecting tensorflow-gpu\n",
            "  Downloading tensorflow_gpu-2.10.0-cp37-cp37m-manylinux_2_17_x86_64.manylinux2014_x86_64.whl (578.0 MB)\n",
            "\u001b[K     |████████████████████████████████| 578.0 MB 15 kB/s \n",
            "\u001b[?25hRequirement already satisfied: opt-einsum>=2.3.2 in /usr/local/lib/python3.7/dist-packages (from tensorflow-gpu) (3.3.0)\n",
            "Collecting keras<2.11,>=2.10.0\n",
            "  Downloading keras-2.10.0-py2.py3-none-any.whl (1.7 MB)\n",
            "\u001b[K     |████████████████████████████████| 1.7 MB 55.0 MB/s \n",
            "\u001b[?25hRequirement already satisfied: numpy>=1.20 in /usr/local/lib/python3.7/dist-packages (from tensorflow-gpu) (1.21.6)\n",
            "Requirement already satisfied: packaging in /usr/local/lib/python3.7/dist-packages (from tensorflow-gpu) (21.3)\n",
            "Requirement already satisfied: absl-py>=1.0.0 in /usr/local/lib/python3.7/dist-packages (from tensorflow-gpu) (1.3.0)\n",
            "Requirement already satisfied: libclang>=13.0.0 in /usr/local/lib/python3.7/dist-packages (from tensorflow-gpu) (14.0.6)\n",
            "Collecting tensorboard<2.11,>=2.10\n",
            "  Downloading tensorboard-2.10.1-py3-none-any.whl (5.9 MB)\n",
            "\u001b[K     |████████████████████████████████| 5.9 MB 47.5 MB/s \n",
            "\u001b[?25hRequirement already satisfied: keras-preprocessing>=1.1.1 in /usr/local/lib/python3.7/dist-packages (from tensorflow-gpu) (1.1.2)\n",
            "Requirement already satisfied: protobuf<3.20,>=3.9.2 in /usr/local/lib/python3.7/dist-packages (from tensorflow-gpu) (3.17.3)\n",
            "Requirement already satisfied: astunparse>=1.6.0 in /usr/local/lib/python3.7/dist-packages (from tensorflow-gpu) (1.6.3)\n",
            "Requirement already satisfied: gast<=0.4.0,>=0.2.1 in /usr/local/lib/python3.7/dist-packages (from tensorflow-gpu) (0.4.0)\n",
            "Requirement already satisfied: google-pasta>=0.1.1 in /usr/local/lib/python3.7/dist-packages (from tensorflow-gpu) (0.2.0)\n",
            "Requirement already satisfied: typing-extensions>=3.6.6 in /usr/local/lib/python3.7/dist-packages (from tensorflow-gpu) (4.1.1)\n",
            "Requirement already satisfied: grpcio<2.0,>=1.24.3 in /usr/local/lib/python3.7/dist-packages (from tensorflow-gpu) (1.50.0)\n",
            "Requirement already satisfied: six>=1.12.0 in /usr/local/lib/python3.7/dist-packages (from tensorflow-gpu) (1.15.0)\n",
            "Collecting tensorflow-estimator<2.11,>=2.10.0\n",
            "  Downloading tensorflow_estimator-2.10.0-py2.py3-none-any.whl (438 kB)\n",
            "\u001b[K     |████████████████████████████████| 438 kB 70.3 MB/s \n",
            "\u001b[?25hRequirement already satisfied: setuptools in /usr/local/lib/python3.7/dist-packages (from tensorflow-gpu) (57.4.0)\n",
            "Requirement already satisfied: termcolor>=1.1.0 in /usr/local/lib/python3.7/dist-packages (from tensorflow-gpu) (2.0.1)\n",
            "Requirement already satisfied: wrapt>=1.11.0 in /usr/local/lib/python3.7/dist-packages (from tensorflow-gpu) (1.14.1)\n",
            "Requirement already satisfied: h5py>=2.9.0 in /usr/local/lib/python3.7/dist-packages (from tensorflow-gpu) (3.1.0)\n",
            "Requirement already satisfied: tensorflow-io-gcs-filesystem>=0.23.1 in /usr/local/lib/python3.7/dist-packages (from tensorflow-gpu) (0.27.0)\n",
            "Collecting flatbuffers>=2.0\n",
            "  Downloading flatbuffers-22.10.26-py2.py3-none-any.whl (26 kB)\n",
            "Requirement already satisfied: wheel<1.0,>=0.23.0 in /usr/local/lib/python3.7/dist-packages (from astunparse>=1.6.0->tensorflow-gpu) (0.37.1)\n",
            "Requirement already satisfied: cached-property in /usr/local/lib/python3.7/dist-packages (from h5py>=2.9.0->tensorflow-gpu) (1.5.2)\n",
            "Requirement already satisfied: markdown>=2.6.8 in /usr/local/lib/python3.7/dist-packages (from tensorboard<2.11,>=2.10->tensorflow-gpu) (3.4.1)\n",
            "Requirement already satisfied: tensorboard-plugin-wit>=1.6.0 in /usr/local/lib/python3.7/dist-packages (from tensorboard<2.11,>=2.10->tensorflow-gpu) (1.8.1)\n",
            "Requirement already satisfied: google-auth-oauthlib<0.5,>=0.4.1 in /usr/local/lib/python3.7/dist-packages (from tensorboard<2.11,>=2.10->tensorflow-gpu) (0.4.6)\n",
            "Requirement already satisfied: google-auth<3,>=1.6.3 in /usr/local/lib/python3.7/dist-packages (from tensorboard<2.11,>=2.10->tensorflow-gpu) (1.35.0)\n",
            "Requirement already satisfied: requests<3,>=2.21.0 in /usr/local/lib/python3.7/dist-packages (from tensorboard<2.11,>=2.10->tensorflow-gpu) (2.23.0)\n",
            "Requirement already satisfied: tensorboard-data-server<0.7.0,>=0.6.0 in /usr/local/lib/python3.7/dist-packages (from tensorboard<2.11,>=2.10->tensorflow-gpu) (0.6.1)\n",
            "Requirement already satisfied: werkzeug>=1.0.1 in /usr/local/lib/python3.7/dist-packages (from tensorboard<2.11,>=2.10->tensorflow-gpu) (1.0.1)\n",
            "Requirement already satisfied: cachetools<5.0,>=2.0.0 in /usr/local/lib/python3.7/dist-packages (from google-auth<3,>=1.6.3->tensorboard<2.11,>=2.10->tensorflow-gpu) (4.2.4)\n",
            "Requirement already satisfied: pyasn1-modules>=0.2.1 in /usr/local/lib/python3.7/dist-packages (from google-auth<3,>=1.6.3->tensorboard<2.11,>=2.10->tensorflow-gpu) (0.2.8)\n",
            "Requirement already satisfied: rsa<5,>=3.1.4 in /usr/local/lib/python3.7/dist-packages (from google-auth<3,>=1.6.3->tensorboard<2.11,>=2.10->tensorflow-gpu) (4.9)\n",
            "Requirement already satisfied: requests-oauthlib>=0.7.0 in /usr/local/lib/python3.7/dist-packages (from google-auth-oauthlib<0.5,>=0.4.1->tensorboard<2.11,>=2.10->tensorflow-gpu) (1.3.1)\n",
            "Requirement already satisfied: importlib-metadata>=4.4 in /usr/local/lib/python3.7/dist-packages (from markdown>=2.6.8->tensorboard<2.11,>=2.10->tensorflow-gpu) (4.13.0)\n",
            "Requirement already satisfied: zipp>=0.5 in /usr/local/lib/python3.7/dist-packages (from importlib-metadata>=4.4->markdown>=2.6.8->tensorboard<2.11,>=2.10->tensorflow-gpu) (3.9.0)\n",
            "Requirement already satisfied: pyasn1<0.5.0,>=0.4.6 in /usr/local/lib/python3.7/dist-packages (from pyasn1-modules>=0.2.1->google-auth<3,>=1.6.3->tensorboard<2.11,>=2.10->tensorflow-gpu) (0.4.8)\n",
            "Requirement already satisfied: certifi>=2017.4.17 in /usr/local/lib/python3.7/dist-packages (from requests<3,>=2.21.0->tensorboard<2.11,>=2.10->tensorflow-gpu) (2022.9.24)\n",
            "Requirement already satisfied: chardet<4,>=3.0.2 in /usr/local/lib/python3.7/dist-packages (from requests<3,>=2.21.0->tensorboard<2.11,>=2.10->tensorflow-gpu) (3.0.4)\n",
            "Requirement already satisfied: idna<3,>=2.5 in /usr/local/lib/python3.7/dist-packages (from requests<3,>=2.21.0->tensorboard<2.11,>=2.10->tensorflow-gpu) (2.10)\n",
            "Requirement already satisfied: urllib3!=1.25.0,!=1.25.1,<1.26,>=1.21.1 in /usr/local/lib/python3.7/dist-packages (from requests<3,>=2.21.0->tensorboard<2.11,>=2.10->tensorflow-gpu) (1.24.3)\n",
            "Requirement already satisfied: oauthlib>=3.0.0 in /usr/local/lib/python3.7/dist-packages (from requests-oauthlib>=0.7.0->google-auth-oauthlib<0.5,>=0.4.1->tensorboard<2.11,>=2.10->tensorflow-gpu) (3.2.2)\n",
            "Requirement already satisfied: pyparsing!=3.0.5,>=2.0.2 in /usr/local/lib/python3.7/dist-packages (from packaging->tensorflow-gpu) (3.0.9)\n",
            "Installing collected packages: tensorflow-estimator, tensorboard, keras, flatbuffers, tensorflow-gpu\n",
            "  Attempting uninstall: tensorflow-estimator\n",
            "    Found existing installation: tensorflow-estimator 2.9.0\n",
            "    Uninstalling tensorflow-estimator-2.9.0:\n",
            "      Successfully uninstalled tensorflow-estimator-2.9.0\n",
            "  Attempting uninstall: tensorboard\n",
            "    Found existing installation: tensorboard 2.9.1\n",
            "    Uninstalling tensorboard-2.9.1:\n",
            "      Successfully uninstalled tensorboard-2.9.1\n",
            "  Attempting uninstall: keras\n",
            "    Found existing installation: keras 2.9.0\n",
            "    Uninstalling keras-2.9.0:\n",
            "      Successfully uninstalled keras-2.9.0\n",
            "  Attempting uninstall: flatbuffers\n",
            "    Found existing installation: flatbuffers 1.12\n",
            "    Uninstalling flatbuffers-1.12:\n",
            "      Successfully uninstalled flatbuffers-1.12\n",
            "\u001b[31mERROR: pip's dependency resolver does not currently take into account all the packages that are installed. This behaviour is the source of the following dependency conflicts.\n",
            "tensorflow 2.9.2 requires flatbuffers<2,>=1.12, but you have flatbuffers 22.10.26 which is incompatible.\n",
            "tensorflow 2.9.2 requires keras<2.10.0,>=2.9.0rc0, but you have keras 2.10.0 which is incompatible.\n",
            "tensorflow 2.9.2 requires tensorboard<2.10,>=2.9, but you have tensorboard 2.10.1 which is incompatible.\n",
            "tensorflow 2.9.2 requires tensorflow-estimator<2.10.0,>=2.9.0rc0, but you have tensorflow-estimator 2.10.0 which is incompatible.\u001b[0m\n",
            "Successfully installed flatbuffers-22.10.26 keras-2.10.0 tensorboard-2.10.1 tensorflow-estimator-2.10.0 tensorflow-gpu-2.10.0\n"
          ]
        }
      ],
      "source": [
        "!pip install tensorflow-gpu"
      ]
    },
    {
      "cell_type": "code",
      "source": [
        "import tensorflow as tf\n",
        "print(tf.__version__)"
      ],
      "metadata": {
        "colab": {
          "base_uri": "https://localhost:8080/"
        },
        "id": "yZ5hceiMAX7n",
        "outputId": "a7b44220-1f15-4e4b-b6d2-cd1b7a3aeafe"
      },
      "execution_count": 3,
      "outputs": [
        {
          "output_type": "stream",
          "name": "stdout",
          "text": [
            "2.10.0\n"
          ]
        }
      ]
    },
    {
      "cell_type": "code",
      "execution_count": 4,
      "metadata": {
        "id": "k4nKifUl0XGC"
      },
      "outputs": [],
      "source": [
        "##tensorflow >2.0\n",
        "from tensorflow.keras.preprocessing.text import one_hot"
      ]
    },
    {
      "cell_type": "code",
      "source": [],
      "metadata": {
        "id": "hADTdqZTAUfS"
      },
      "execution_count": 4,
      "outputs": []
    },
    {
      "cell_type": "code",
      "execution_count": 5,
      "metadata": {
        "id": "Fu9PuYeu0XGD"
      },
      "outputs": [],
      "source": [
        "### sentences\n",
        "sent=[  'the glass of milk',\n",
        "     'the glass of juice',\n",
        "     'the cup of tea',\n",
        "    'I am a good boy',\n",
        "     'I am a good developer',\n",
        "     'understand the meaning of words',\n",
        "     'your videos are good']"
      ]
    },
    {
      "cell_type": "code",
      "execution_count": 6,
      "metadata": {
        "colab": {
          "base_uri": "https://localhost:8080/"
        },
        "id": "x5d1D3_20XGD",
        "outputId": "f742a8d9-cbd1-49f2-e9dd-18a8e4078ada"
      },
      "outputs": [
        {
          "output_type": "execute_result",
          "data": {
            "text/plain": [
              "['the glass of milk',\n",
              " 'the glass of juice',\n",
              " 'the cup of tea',\n",
              " 'I am a good boy',\n",
              " 'I am a good developer',\n",
              " 'understand the meaning of words',\n",
              " 'your videos are good']"
            ]
          },
          "metadata": {},
          "execution_count": 6
        }
      ],
      "source": [
        "sent"
      ]
    },
    {
      "cell_type": "code",
      "execution_count": 7,
      "metadata": {
        "id": "tjnXIn3B0XGE"
      },
      "outputs": [],
      "source": [
        "### Vocabulary size\n",
        "voc_size=500"
      ]
    },
    {
      "cell_type": "markdown",
      "metadata": {
        "id": "-vQOdeKk0XGE"
      },
      "source": [
        "#### One Hot Representation"
      ]
    },
    {
      "cell_type": "code",
      "execution_count": 8,
      "metadata": {
        "colab": {
          "base_uri": "https://localhost:8080/"
        },
        "id": "gojfZpAW0XGE",
        "outputId": "db9afc11-7f9e-4d10-fb2a-602907ed5b35"
      },
      "outputs": [
        {
          "output_type": "stream",
          "name": "stdout",
          "text": [
            "[[326, 193, 37, 169], [326, 193, 37, 387], [326, 7, 37, 231], [278, 372, 257, 297, 20], [278, 372, 257, 297, 212], [97, 326, 465, 37, 304], [390, 173, 131, 297]]\n"
          ]
        }
      ],
      "source": [
        "onehot_repr=[one_hot(words,voc_size)for words in sent] \n",
        "print(onehot_repr)"
      ]
    },
    {
      "cell_type": "markdown",
      "metadata": {
        "id": "eYG267x40XGF"
      },
      "source": [
        "### Word Embedding Represntation"
      ]
    },
    {
      "cell_type": "code",
      "execution_count": 9,
      "metadata": {
        "id": "wpqPm0tb0XGF"
      },
      "outputs": [],
      "source": [
        "from tensorflow.keras.layers import Embedding\n",
        "from tensorflow.keras.preprocessing.sequence import pad_sequences\n",
        "from tensorflow.keras.models import Sequential"
      ]
    },
    {
      "cell_type": "code",
      "execution_count": 10,
      "metadata": {
        "id": "Rov3GTM00XGG"
      },
      "outputs": [],
      "source": [
        "import numpy as np"
      ]
    },
    {
      "cell_type": "code",
      "execution_count": 11,
      "metadata": {
        "colab": {
          "base_uri": "https://localhost:8080/"
        },
        "id": "8fQLPw6p0XGG",
        "outputId": "93d5c394-9b0c-4e1f-a58b-6603f4945215"
      },
      "outputs": [
        {
          "output_type": "stream",
          "name": "stdout",
          "text": [
            "[[  0   0   0   0 326 193  37 169]\n",
            " [  0   0   0   0 326 193  37 387]\n",
            " [  0   0   0   0 326   7  37 231]\n",
            " [  0   0   0 278 372 257 297  20]\n",
            " [  0   0   0 278 372 257 297 212]\n",
            " [  0   0   0  97 326 465  37 304]\n",
            " [  0   0   0   0 390 173 131 297]]\n"
          ]
        }
      ],
      "source": [
        "## pre padding\n",
        "sent_length=8\n",
        "embedded_docs=pad_sequences(onehot_repr,padding='pre',maxlen=sent_length)\n",
        "print(embedded_docs)"
      ]
    },
    {
      "cell_type": "code",
      "execution_count": 12,
      "metadata": {
        "id": "yjQqBYac0XGG"
      },
      "outputs": [],
      "source": [
        "## 10 feature dimesnions\n",
        "dim=10\n"
      ]
    },
    {
      "cell_type": "code",
      "execution_count": 13,
      "metadata": {
        "id": "ozC-TXrt0XGG"
      },
      "outputs": [],
      "source": [
        "model=Sequential()\n",
        "model.add(Embedding(voc_size,10,input_length=sent_length))\n",
        "model.compile('adam','mse')"
      ]
    },
    {
      "cell_type": "code",
      "execution_count": 14,
      "metadata": {
        "colab": {
          "base_uri": "https://localhost:8080/"
        },
        "id": "tMNvq-Ji0XGH",
        "outputId": "5f864ba1-8d43-439b-e61d-39b6d6abc03c"
      },
      "outputs": [
        {
          "output_type": "stream",
          "name": "stdout",
          "text": [
            "Model: \"sequential\"\n",
            "_________________________________________________________________\n",
            " Layer (type)                Output Shape              Param #   \n",
            "=================================================================\n",
            " embedding (Embedding)       (None, 8, 10)             5000      \n",
            "                                                                 \n",
            "=================================================================\n",
            "Total params: 5,000\n",
            "Trainable params: 5,000\n",
            "Non-trainable params: 0\n",
            "_________________________________________________________________\n"
          ]
        }
      ],
      "source": [
        "model.summary()"
      ]
    },
    {
      "cell_type": "code",
      "source": [
        "##'the glass of milk',\n",
        "embedded_docs[0]"
      ],
      "metadata": {
        "colab": {
          "base_uri": "https://localhost:8080/"
        },
        "id": "FC4Ess_FEcb3",
        "outputId": "6bc6cf5d-19b4-4173-9565-4ff1e83480a2"
      },
      "execution_count": 15,
      "outputs": [
        {
          "output_type": "execute_result",
          "data": {
            "text/plain": [
              "array([  0,   0,   0,   0, 326, 193,  37, 169], dtype=int32)"
            ]
          },
          "metadata": {},
          "execution_count": 15
        }
      ]
    },
    {
      "cell_type": "code",
      "source": [
        "model.predict(embedded_docs[0])"
      ],
      "metadata": {
        "colab": {
          "base_uri": "https://localhost:8080/"
        },
        "id": "bRqEvMBYEZUS",
        "outputId": "35e00000-b9d8-42da-ad14-926c9b1de050"
      },
      "execution_count": 16,
      "outputs": [
        {
          "output_type": "stream",
          "name": "stderr",
          "text": [
            "WARNING:tensorflow:Model was constructed with shape (None, 8) for input KerasTensor(type_spec=TensorSpec(shape=(None, 8), dtype=tf.float32, name='embedding_input'), name='embedding_input', description=\"created by layer 'embedding_input'\"), but it was called on an input with incompatible shape (None,).\n"
          ]
        },
        {
          "output_type": "stream",
          "name": "stdout",
          "text": [
            "1/1 [==============================] - 0s 72ms/step\n"
          ]
        },
        {
          "output_type": "execute_result",
          "data": {
            "text/plain": [
              "array([[-0.03283658,  0.0392232 ,  0.03144247, -0.01047589,  0.009     ,\n",
              "         0.04156829, -0.01806079, -0.02673535,  0.03109298, -0.0045856 ],\n",
              "       [-0.03283658,  0.0392232 ,  0.03144247, -0.01047589,  0.009     ,\n",
              "         0.04156829, -0.01806079, -0.02673535,  0.03109298, -0.0045856 ],\n",
              "       [-0.03283658,  0.0392232 ,  0.03144247, -0.01047589,  0.009     ,\n",
              "         0.04156829, -0.01806079, -0.02673535,  0.03109298, -0.0045856 ],\n",
              "       [-0.03283658,  0.0392232 ,  0.03144247, -0.01047589,  0.009     ,\n",
              "         0.04156829, -0.01806079, -0.02673535,  0.03109298, -0.0045856 ],\n",
              "       [ 0.03361282, -0.00091664,  0.03515153, -0.01352024, -0.01873715,\n",
              "         0.0455972 ,  0.03006412,  0.03376487,  0.0109804 ,  0.03723573],\n",
              "       [-0.04932937, -0.01210111, -0.02027177,  0.02392943, -0.00010809,\n",
              "        -0.00299164,  0.01843384, -0.03982387,  0.01117023,  0.00627226],\n",
              "       [ 0.00403009, -0.03583927, -0.02085699, -0.00455619, -0.0301855 ,\n",
              "         0.03096074, -0.04436474, -0.02199133, -0.02890624, -0.02976973],\n",
              "       [ 0.04197457, -0.03379529,  0.0295797 ,  0.02699618, -0.04487772,\n",
              "         0.01458491,  0.00980104,  0.01959923,  0.03596671,  0.03547977]],\n",
              "      dtype=float32)"
            ]
          },
          "metadata": {},
          "execution_count": 16
        }
      ]
    },
    {
      "cell_type": "code",
      "execution_count": 17,
      "metadata": {
        "colab": {
          "base_uri": "https://localhost:8080/"
        },
        "id": "kzKP69gx0XGH",
        "outputId": "ad1de020-206e-4e71-bf4f-e33138b1c802"
      },
      "outputs": [
        {
          "output_type": "stream",
          "name": "stdout",
          "text": [
            "1/1 [==============================] - 0s 35ms/step\n",
            "[[[-3.28365788e-02  3.92231978e-02  3.14424671e-02 -1.04758851e-02\n",
            "    9.00000334e-03  4.15682904e-02 -1.80607922e-02 -2.67353542e-02\n",
            "    3.10929753e-02 -4.58560139e-03]\n",
            "  [-3.28365788e-02  3.92231978e-02  3.14424671e-02 -1.04758851e-02\n",
            "    9.00000334e-03  4.15682904e-02 -1.80607922e-02 -2.67353542e-02\n",
            "    3.10929753e-02 -4.58560139e-03]\n",
            "  [-3.28365788e-02  3.92231978e-02  3.14424671e-02 -1.04758851e-02\n",
            "    9.00000334e-03  4.15682904e-02 -1.80607922e-02 -2.67353542e-02\n",
            "    3.10929753e-02 -4.58560139e-03]\n",
            "  [-3.28365788e-02  3.92231978e-02  3.14424671e-02 -1.04758851e-02\n",
            "    9.00000334e-03  4.15682904e-02 -1.80607922e-02 -2.67353542e-02\n",
            "    3.10929753e-02 -4.58560139e-03]\n",
            "  [ 3.36128213e-02 -9.16637480e-04  3.51515301e-02 -1.35202408e-02\n",
            "   -1.87371485e-02  4.55971994e-02  3.00641172e-02  3.37648727e-02\n",
            "    1.09804049e-02  3.72357257e-02]\n",
            "  [-4.93293665e-02 -1.21011138e-02 -2.02717669e-02  2.39294283e-02\n",
            "   -1.08085573e-04 -2.99163908e-03  1.84338354e-02 -3.98238674e-02\n",
            "    1.11702308e-02  6.27225637e-03]\n",
            "  [ 4.03008610e-03 -3.58392708e-02 -2.08569895e-02 -4.55619022e-03\n",
            "   -3.01854964e-02  3.09607424e-02 -4.43647392e-02 -2.19913255e-02\n",
            "   -2.89062392e-02 -2.97697317e-02]\n",
            "  [ 4.19745706e-02 -3.37952860e-02  2.95797028e-02  2.69961841e-02\n",
            "   -4.48777191e-02  1.45849101e-02  9.80104133e-03  1.95992254e-02\n",
            "    3.59667055e-02  3.54797728e-02]]\n",
            "\n",
            " [[-3.28365788e-02  3.92231978e-02  3.14424671e-02 -1.04758851e-02\n",
            "    9.00000334e-03  4.15682904e-02 -1.80607922e-02 -2.67353542e-02\n",
            "    3.10929753e-02 -4.58560139e-03]\n",
            "  [-3.28365788e-02  3.92231978e-02  3.14424671e-02 -1.04758851e-02\n",
            "    9.00000334e-03  4.15682904e-02 -1.80607922e-02 -2.67353542e-02\n",
            "    3.10929753e-02 -4.58560139e-03]\n",
            "  [-3.28365788e-02  3.92231978e-02  3.14424671e-02 -1.04758851e-02\n",
            "    9.00000334e-03  4.15682904e-02 -1.80607922e-02 -2.67353542e-02\n",
            "    3.10929753e-02 -4.58560139e-03]\n",
            "  [-3.28365788e-02  3.92231978e-02  3.14424671e-02 -1.04758851e-02\n",
            "    9.00000334e-03  4.15682904e-02 -1.80607922e-02 -2.67353542e-02\n",
            "    3.10929753e-02 -4.58560139e-03]\n",
            "  [ 3.36128213e-02 -9.16637480e-04  3.51515301e-02 -1.35202408e-02\n",
            "   -1.87371485e-02  4.55971994e-02  3.00641172e-02  3.37648727e-02\n",
            "    1.09804049e-02  3.72357257e-02]\n",
            "  [-4.93293665e-02 -1.21011138e-02 -2.02717669e-02  2.39294283e-02\n",
            "   -1.08085573e-04 -2.99163908e-03  1.84338354e-02 -3.98238674e-02\n",
            "    1.11702308e-02  6.27225637e-03]\n",
            "  [ 4.03008610e-03 -3.58392708e-02 -2.08569895e-02 -4.55619022e-03\n",
            "   -3.01854964e-02  3.09607424e-02 -4.43647392e-02 -2.19913255e-02\n",
            "   -2.89062392e-02 -2.97697317e-02]\n",
            "  [ 3.51949222e-02 -2.30302457e-02 -1.37991086e-02  2.76829489e-02\n",
            "    4.59121503e-02  3.67214344e-02  3.75677459e-02  3.10168415e-03\n",
            "    1.77669264e-02 -3.43466550e-02]]\n",
            "\n",
            " [[-3.28365788e-02  3.92231978e-02  3.14424671e-02 -1.04758851e-02\n",
            "    9.00000334e-03  4.15682904e-02 -1.80607922e-02 -2.67353542e-02\n",
            "    3.10929753e-02 -4.58560139e-03]\n",
            "  [-3.28365788e-02  3.92231978e-02  3.14424671e-02 -1.04758851e-02\n",
            "    9.00000334e-03  4.15682904e-02 -1.80607922e-02 -2.67353542e-02\n",
            "    3.10929753e-02 -4.58560139e-03]\n",
            "  [-3.28365788e-02  3.92231978e-02  3.14424671e-02 -1.04758851e-02\n",
            "    9.00000334e-03  4.15682904e-02 -1.80607922e-02 -2.67353542e-02\n",
            "    3.10929753e-02 -4.58560139e-03]\n",
            "  [-3.28365788e-02  3.92231978e-02  3.14424671e-02 -1.04758851e-02\n",
            "    9.00000334e-03  4.15682904e-02 -1.80607922e-02 -2.67353542e-02\n",
            "    3.10929753e-02 -4.58560139e-03]\n",
            "  [ 3.36128213e-02 -9.16637480e-04  3.51515301e-02 -1.35202408e-02\n",
            "   -1.87371485e-02  4.55971994e-02  3.00641172e-02  3.37648727e-02\n",
            "    1.09804049e-02  3.72357257e-02]\n",
            "  [-4.45825122e-02 -2.64033675e-02  1.32583268e-02  3.66316549e-02\n",
            "    4.39604856e-02  4.06965725e-02 -3.44170816e-02  1.21454969e-02\n",
            "   -1.52015910e-02 -1.87980011e-03]\n",
            "  [ 4.03008610e-03 -3.58392708e-02 -2.08569895e-02 -4.55619022e-03\n",
            "   -3.01854964e-02  3.09607424e-02 -4.43647392e-02 -2.19913255e-02\n",
            "   -2.89062392e-02 -2.97697317e-02]\n",
            "  [ 2.23023184e-02 -1.98582169e-02  1.30051114e-02 -7.99523667e-03\n",
            "   -4.84189168e-02  2.68700235e-02  3.26651074e-02 -2.10711248e-02\n",
            "   -3.43159214e-02  4.47739847e-02]]\n",
            "\n",
            " [[-3.28365788e-02  3.92231978e-02  3.14424671e-02 -1.04758851e-02\n",
            "    9.00000334e-03  4.15682904e-02 -1.80607922e-02 -2.67353542e-02\n",
            "    3.10929753e-02 -4.58560139e-03]\n",
            "  [-3.28365788e-02  3.92231978e-02  3.14424671e-02 -1.04758851e-02\n",
            "    9.00000334e-03  4.15682904e-02 -1.80607922e-02 -2.67353542e-02\n",
            "    3.10929753e-02 -4.58560139e-03]\n",
            "  [-3.28365788e-02  3.92231978e-02  3.14424671e-02 -1.04758851e-02\n",
            "    9.00000334e-03  4.15682904e-02 -1.80607922e-02 -2.67353542e-02\n",
            "    3.10929753e-02 -4.58560139e-03]\n",
            "  [ 4.30819429e-02  4.42243256e-02 -3.91933322e-02  3.38650458e-02\n",
            "    5.18985838e-03 -3.49115357e-02 -9.63582844e-03  2.75915153e-02\n",
            "   -3.82623188e-02  1.03184469e-02]\n",
            "  [-4.50418107e-02  9.58494097e-03 -1.32000931e-02 -3.82763259e-02\n",
            "   -2.97196154e-02 -4.02367115e-03  3.59493382e-02 -1.22227892e-02\n",
            "    2.75500901e-02 -4.07119840e-03]\n",
            "  [-1.35326385e-03  4.50653769e-02  4.88805287e-02 -1.08549222e-02\n",
            "    4.61493768e-02 -3.12029198e-03 -4.40772437e-02 -1.15259513e-02\n",
            "   -1.54368654e-02  1.07751861e-02]\n",
            "  [-3.08562648e-02  1.36300959e-02  2.26920731e-02 -6.76789135e-03\n",
            "    1.59078836e-03  6.17228448e-04 -4.83519547e-02 -2.51401663e-02\n",
            "    1.06803291e-02 -3.36438306e-02]\n",
            "  [-1.83976777e-02 -3.90402228e-03  4.23819683e-02  4.72234599e-02\n",
            "    2.26177312e-02 -2.58603822e-02 -4.55756113e-03 -3.06049734e-03\n",
            "    2.06197537e-02  1.94099657e-02]]\n",
            "\n",
            " [[-3.28365788e-02  3.92231978e-02  3.14424671e-02 -1.04758851e-02\n",
            "    9.00000334e-03  4.15682904e-02 -1.80607922e-02 -2.67353542e-02\n",
            "    3.10929753e-02 -4.58560139e-03]\n",
            "  [-3.28365788e-02  3.92231978e-02  3.14424671e-02 -1.04758851e-02\n",
            "    9.00000334e-03  4.15682904e-02 -1.80607922e-02 -2.67353542e-02\n",
            "    3.10929753e-02 -4.58560139e-03]\n",
            "  [-3.28365788e-02  3.92231978e-02  3.14424671e-02 -1.04758851e-02\n",
            "    9.00000334e-03  4.15682904e-02 -1.80607922e-02 -2.67353542e-02\n",
            "    3.10929753e-02 -4.58560139e-03]\n",
            "  [ 4.30819429e-02  4.42243256e-02 -3.91933322e-02  3.38650458e-02\n",
            "    5.18985838e-03 -3.49115357e-02 -9.63582844e-03  2.75915153e-02\n",
            "   -3.82623188e-02  1.03184469e-02]\n",
            "  [-4.50418107e-02  9.58494097e-03 -1.32000931e-02 -3.82763259e-02\n",
            "   -2.97196154e-02 -4.02367115e-03  3.59493382e-02 -1.22227892e-02\n",
            "    2.75500901e-02 -4.07119840e-03]\n",
            "  [-1.35326385e-03  4.50653769e-02  4.88805287e-02 -1.08549222e-02\n",
            "    4.61493768e-02 -3.12029198e-03 -4.40772437e-02 -1.15259513e-02\n",
            "   -1.54368654e-02  1.07751861e-02]\n",
            "  [-3.08562648e-02  1.36300959e-02  2.26920731e-02 -6.76789135e-03\n",
            "    1.59078836e-03  6.17228448e-04 -4.83519547e-02 -2.51401663e-02\n",
            "    1.06803291e-02 -3.36438306e-02]\n",
            "  [ 8.19765404e-03 -4.29029465e-02  2.11156532e-03  4.56351154e-02\n",
            "    3.97096910e-02  1.86153911e-02  2.55551077e-02  4.81684692e-02\n",
            "   -4.73197587e-02 -2.63287909e-02]]\n",
            "\n",
            " [[-3.28365788e-02  3.92231978e-02  3.14424671e-02 -1.04758851e-02\n",
            "    9.00000334e-03  4.15682904e-02 -1.80607922e-02 -2.67353542e-02\n",
            "    3.10929753e-02 -4.58560139e-03]\n",
            "  [-3.28365788e-02  3.92231978e-02  3.14424671e-02 -1.04758851e-02\n",
            "    9.00000334e-03  4.15682904e-02 -1.80607922e-02 -2.67353542e-02\n",
            "    3.10929753e-02 -4.58560139e-03]\n",
            "  [-3.28365788e-02  3.92231978e-02  3.14424671e-02 -1.04758851e-02\n",
            "    9.00000334e-03  4.15682904e-02 -1.80607922e-02 -2.67353542e-02\n",
            "    3.10929753e-02 -4.58560139e-03]\n",
            "  [ 1.08554140e-02 -3.82332429e-02 -2.14745887e-02  4.63979952e-02\n",
            "    8.62216949e-03 -4.00644429e-02  2.47256048e-02 -8.48809630e-03\n",
            "    1.00359805e-02  1.62420422e-03]\n",
            "  [ 3.36128213e-02 -9.16637480e-04  3.51515301e-02 -1.35202408e-02\n",
            "   -1.87371485e-02  4.55971994e-02  3.00641172e-02  3.37648727e-02\n",
            "    1.09804049e-02  3.72357257e-02]\n",
            "  [-2.56938934e-02  3.96216251e-02 -2.97755357e-02 -4.66755144e-02\n",
            "    3.60593684e-02 -1.94191337e-02  1.55561306e-02 -2.32334863e-02\n",
            "   -2.28717178e-03  4.58684005e-02]\n",
            "  [ 4.03008610e-03 -3.58392708e-02 -2.08569895e-02 -4.55619022e-03\n",
            "   -3.01854964e-02  3.09607424e-02 -4.43647392e-02 -2.19913255e-02\n",
            "   -2.89062392e-02 -2.97697317e-02]\n",
            "  [ 2.76053064e-02 -4.17986885e-02 -1.78549401e-02 -3.41166630e-02\n",
            "   -4.88993786e-02  3.25574912e-02  4.07848395e-02 -1.92684531e-02\n",
            "    4.81212996e-02  1.46206282e-02]]\n",
            "\n",
            " [[-3.28365788e-02  3.92231978e-02  3.14424671e-02 -1.04758851e-02\n",
            "    9.00000334e-03  4.15682904e-02 -1.80607922e-02 -2.67353542e-02\n",
            "    3.10929753e-02 -4.58560139e-03]\n",
            "  [-3.28365788e-02  3.92231978e-02  3.14424671e-02 -1.04758851e-02\n",
            "    9.00000334e-03  4.15682904e-02 -1.80607922e-02 -2.67353542e-02\n",
            "    3.10929753e-02 -4.58560139e-03]\n",
            "  [-3.28365788e-02  3.92231978e-02  3.14424671e-02 -1.04758851e-02\n",
            "    9.00000334e-03  4.15682904e-02 -1.80607922e-02 -2.67353542e-02\n",
            "    3.10929753e-02 -4.58560139e-03]\n",
            "  [-3.28365788e-02  3.92231978e-02  3.14424671e-02 -1.04758851e-02\n",
            "    9.00000334e-03  4.15682904e-02 -1.80607922e-02 -2.67353542e-02\n",
            "    3.10929753e-02 -4.58560139e-03]\n",
            "  [-1.82191133e-02  4.82914783e-02  4.09619547e-02 -2.37177685e-03\n",
            "    3.13531794e-02  3.13629545e-02 -3.58243957e-02  4.50498126e-02\n",
            "    1.72646977e-02  2.62282230e-02]\n",
            "  [ 3.23278643e-02 -1.43805854e-02 -4.47254777e-02  3.18512321e-05\n",
            "    3.40186432e-03 -3.86949666e-02 -2.42460519e-04  4.04873602e-02\n",
            "   -2.04105619e-02  6.08935952e-05]\n",
            "  [ 4.13189083e-03 -1.90500375e-02  1.83959939e-02  1.51366927e-02\n",
            "   -4.35554758e-02 -1.17175207e-02  3.53462361e-02  1.81650631e-02\n",
            "    2.80491225e-02 -9.19947773e-03]\n",
            "  [-3.08562648e-02  1.36300959e-02  2.26920731e-02 -6.76789135e-03\n",
            "    1.59078836e-03  6.17228448e-04 -4.83519547e-02 -2.51401663e-02\n",
            "    1.06803291e-02 -3.36438306e-02]]]\n"
          ]
        }
      ],
      "source": [
        "print(model.predict(embedded_docs))"
      ]
    },
    {
      "cell_type": "code",
      "execution_count": 18,
      "metadata": {
        "id": "JuUxfk7d0XGH",
        "outputId": "20e3b037-3b03-4979-8ef3-4f74ce9946ae",
        "colab": {
          "base_uri": "https://localhost:8080/"
        }
      },
      "outputs": [
        {
          "output_type": "execute_result",
          "data": {
            "text/plain": [
              "array([  0,   0,   0,   0, 326, 193,  37, 169], dtype=int32)"
            ]
          },
          "metadata": {},
          "execution_count": 18
        }
      ],
      "source": [
        "embedded_docs[0]"
      ]
    },
    {
      "cell_type": "code",
      "execution_count": 19,
      "metadata": {
        "id": "6JJ_zD0u0XGH",
        "outputId": "c3a8cec4-cf62-4271-9899-8ef9aab1b2f8",
        "colab": {
          "base_uri": "https://localhost:8080/"
        }
      },
      "outputs": [
        {
          "output_type": "stream",
          "name": "stdout",
          "text": [
            "1/1 [==============================] - 0s 17ms/step\n",
            "[[-0.03283658  0.0392232   0.03144247 -0.01047589  0.009       0.04156829\n",
            "  -0.01806079 -0.02673535  0.03109298 -0.0045856 ]\n",
            " [-0.03283658  0.0392232   0.03144247 -0.01047589  0.009       0.04156829\n",
            "  -0.01806079 -0.02673535  0.03109298 -0.0045856 ]\n",
            " [-0.03283658  0.0392232   0.03144247 -0.01047589  0.009       0.04156829\n",
            "  -0.01806079 -0.02673535  0.03109298 -0.0045856 ]\n",
            " [-0.03283658  0.0392232   0.03144247 -0.01047589  0.009       0.04156829\n",
            "  -0.01806079 -0.02673535  0.03109298 -0.0045856 ]\n",
            " [ 0.03361282 -0.00091664  0.03515153 -0.01352024 -0.01873715  0.0455972\n",
            "   0.03006412  0.03376487  0.0109804   0.03723573]\n",
            " [-0.04932937 -0.01210111 -0.02027177  0.02392943 -0.00010809 -0.00299164\n",
            "   0.01843384 -0.03982387  0.01117023  0.00627226]\n",
            " [ 0.00403009 -0.03583927 -0.02085699 -0.00455619 -0.0301855   0.03096074\n",
            "  -0.04436474 -0.02199133 -0.02890624 -0.02976973]\n",
            " [ 0.04197457 -0.03379529  0.0295797   0.02699618 -0.04487772  0.01458491\n",
            "   0.00980104  0.01959923  0.03596671  0.03547977]]\n"
          ]
        }
      ],
      "source": [
        "print(model.predict(embedded_docs)[0])"
      ]
    },
    {
      "cell_type": "code",
      "source": [],
      "metadata": {
        "id": "LnWkOGI2bMSa"
      },
      "execution_count": 19,
      "outputs": []
    },
    {
      "cell_type": "code",
      "source": [],
      "metadata": {
        "id": "oTKj5XpHbMO1"
      },
      "execution_count": 19,
      "outputs": []
    },
    {
      "cell_type": "code",
      "source": [],
      "metadata": {
        "id": "6lIfO2_ebMMq"
      },
      "execution_count": 19,
      "outputs": []
    },
    {
      "cell_type": "code",
      "execution_count": 20,
      "metadata": {
        "id": "8OMu3iAz0XGH"
      },
      "outputs": [],
      "source": [
        "### Assignment\n",
        "\n",
        "sent=[\"The world is a better place\",\n",
        "      \"Marvel series is my favourite movie\",\n",
        "      \"I like DC movies\",\n",
        "      \"the cat is eating the food\",\n",
        "      \"Tom and Jerry is my favourite movie\",\n",
        "      \"Python is my favourite programming language\"\n",
        "      ]"
      ]
    },
    {
      "cell_type": "code",
      "source": [
        "voc_size=1000"
      ],
      "metadata": {
        "id": "FMpvk29kUmgx"
      },
      "execution_count": 21,
      "outputs": []
    },
    {
      "cell_type": "code",
      "source": [
        "#OHE\n",
        "onehot_repr=[one_hot(words,voc_size)for words in sent] \n",
        "print(onehot_repr)"
      ],
      "metadata": {
        "id": "TTHGKx8Baycc",
        "outputId": "cdb095fe-c785-4b6d-dd3e-baf758d728fb",
        "colab": {
          "base_uri": "https://localhost:8080/"
        }
      },
      "execution_count": 22,
      "outputs": [
        {
          "output_type": "stream",
          "name": "stdout",
          "text": [
            "[[97, 993, 73, 104, 83, 480], [309, 111, 73, 40, 898, 816], [744, 219, 807, 466], [97, 265, 73, 242, 97, 693], [414, 577, 321, 73, 40, 898, 816], [514, 73, 40, 898, 977, 453]]\n"
          ]
        }
      ]
    },
    {
      "cell_type": "code",
      "source": [
        "from tensorflow.keras.layers import Embedding\n",
        "from tensorflow.keras.preprocessing.sequence import pad_sequences\n",
        "from tensorflow.keras.models import Sequential\n",
        "import numpy as np"
      ],
      "metadata": {
        "id": "kBaNzWjba6DG"
      },
      "execution_count": 23,
      "outputs": []
    },
    {
      "cell_type": "code",
      "source": [
        "## pre padding\n",
        "sent_length=8\n",
        "embedded_docs=pad_sequences(onehot_repr,padding='pre',maxlen=sent_length)\n",
        "print(embedded_docs)\n"
      ],
      "metadata": {
        "id": "10PHKvsUbXhK",
        "outputId": "3c95e6e4-1ad8-47b1-b450-a2dc0a4201a8",
        "colab": {
          "base_uri": "https://localhost:8080/"
        }
      },
      "execution_count": 24,
      "outputs": [
        {
          "output_type": "stream",
          "name": "stdout",
          "text": [
            "[[  0   0  97 993  73 104  83 480]\n",
            " [  0   0 309 111  73  40 898 816]\n",
            " [  0   0   0   0 744 219 807 466]\n",
            " [  0   0  97 265  73 242  97 693]\n",
            " [  0 414 577 321  73  40 898 816]\n",
            " [  0   0 514  73  40 898 977 453]]\n"
          ]
        }
      ]
    },
    {
      "cell_type": "code",
      "source": [
        "## 10 feature dimesnions\n",
        "dim=10\n"
      ],
      "metadata": {
        "id": "Z9SMMp-5bfc_"
      },
      "execution_count": 25,
      "outputs": []
    },
    {
      "cell_type": "code",
      "source": [
        "model=Sequential()\n",
        "model.add(Embedding(voc_size,10,input_length=sent_length))\n",
        "model.compile('adam','mse')"
      ],
      "metadata": {
        "id": "lZtNkGstb0AV"
      },
      "execution_count": 26,
      "outputs": []
    },
    {
      "cell_type": "code",
      "source": [
        "model.summary()"
      ],
      "metadata": {
        "id": "645JluLxb3Gl",
        "outputId": "76b2d2b9-6ff8-48f1-ba44-6e51e21dd11b",
        "colab": {
          "base_uri": "https://localhost:8080/"
        }
      },
      "execution_count": 27,
      "outputs": [
        {
          "output_type": "stream",
          "name": "stdout",
          "text": [
            "Model: \"sequential_1\"\n",
            "_________________________________________________________________\n",
            " Layer (type)                Output Shape              Param #   \n",
            "=================================================================\n",
            " embedding_1 (Embedding)     (None, 8, 10)             10000     \n",
            "                                                                 \n",
            "=================================================================\n",
            "Total params: 10,000\n",
            "Trainable params: 10,000\n",
            "Non-trainable params: 0\n",
            "_________________________________________________________________\n"
          ]
        }
      ]
    },
    {
      "cell_type": "code",
      "source": [
        "embedded_docs[0]"
      ],
      "metadata": {
        "id": "RC2TesH7cBgG",
        "outputId": "02c632c1-444d-42e6-b37a-a7be07dd8a1b",
        "colab": {
          "base_uri": "https://localhost:8080/"
        }
      },
      "execution_count": 28,
      "outputs": [
        {
          "output_type": "execute_result",
          "data": {
            "text/plain": [
              "array([  0,   0,  97, 993,  73, 104,  83, 480], dtype=int32)"
            ]
          },
          "metadata": {},
          "execution_count": 28
        }
      ]
    },
    {
      "cell_type": "code",
      "source": [
        "model.predict(embedded_docs[0])"
      ],
      "metadata": {
        "id": "wzY1SwKncHpC",
        "outputId": "dd5a687e-3c29-44db-c46d-bf44062f3d6e",
        "colab": {
          "base_uri": "https://localhost:8080/"
        }
      },
      "execution_count": 29,
      "outputs": [
        {
          "output_type": "stream",
          "name": "stderr",
          "text": [
            "WARNING:tensorflow:Model was constructed with shape (None, 8) for input KerasTensor(type_spec=TensorSpec(shape=(None, 8), dtype=tf.float32, name='embedding_1_input'), name='embedding_1_input', description=\"created by layer 'embedding_1_input'\"), but it was called on an input with incompatible shape (None,).\n"
          ]
        },
        {
          "output_type": "stream",
          "name": "stdout",
          "text": [
            "1/1 [==============================] - 0s 70ms/step\n"
          ]
        },
        {
          "output_type": "execute_result",
          "data": {
            "text/plain": [
              "array([[ 4.25562374e-02, -1.14289038e-02, -5.10170311e-03,\n",
              "         2.16388442e-02, -2.88745891e-02, -2.46692188e-02,\n",
              "         1.07342824e-02, -3.14458460e-03, -4.14179452e-02,\n",
              "        -1.55724287e-02],\n",
              "       [ 4.25562374e-02, -1.14289038e-02, -5.10170311e-03,\n",
              "         2.16388442e-02, -2.88745891e-02, -2.46692188e-02,\n",
              "         1.07342824e-02, -3.14458460e-03, -4.14179452e-02,\n",
              "        -1.55724287e-02],\n",
              "       [ 2.67691128e-02, -3.97337601e-03, -4.84623760e-03,\n",
              "        -1.93629395e-02, -4.02806029e-02,  1.93106048e-02,\n",
              "        -3.17760333e-02,  1.34107806e-02, -3.33673246e-02,\n",
              "        -4.78095412e-02],\n",
              "       [-3.47192399e-02, -1.68869123e-02, -2.20253710e-02,\n",
              "        -3.63449082e-02, -1.60694122e-02,  1.52031519e-02,\n",
              "        -3.64284888e-02, -2.82433517e-02,  4.97435443e-02,\n",
              "         4.62707765e-02],\n",
              "       [ 3.17614786e-02,  1.16852410e-02, -1.49835236e-02,\n",
              "         4.72890772e-02, -4.43632863e-02, -4.12946120e-02,\n",
              "         3.91481407e-02,  2.82489397e-02,  4.88573425e-02,\n",
              "         3.52644213e-02],\n",
              "       [ 3.74058634e-03, -3.23574767e-02,  3.40775885e-02,\n",
              "        -8.14614445e-03,  1.85784586e-02, -3.74525785e-03,\n",
              "        -6.40040636e-03,  1.41750909e-02,  1.43437125e-02,\n",
              "         4.47158702e-02],\n",
              "       [-4.16554324e-02, -7.82956928e-03, -1.52813792e-02,\n",
              "        -3.70286480e-02, -7.05607235e-05, -4.01295908e-02,\n",
              "        -4.02108915e-02,  2.90036201e-03,  1.87114216e-02,\n",
              "         2.42624767e-02],\n",
              "       [-2.31206417e-03, -2.69875526e-02,  2.25141160e-02,\n",
              "        -1.48475990e-02,  1.88394301e-02,  1.97682269e-02,\n",
              "         1.48767345e-02,  5.39779663e-03,  3.31992991e-02,\n",
              "         4.69098948e-02]], dtype=float32)"
            ]
          },
          "metadata": {},
          "execution_count": 29
        }
      ]
    },
    {
      "cell_type": "code",
      "source": [
        "print(model.predict(embedded_docs))"
      ],
      "metadata": {
        "id": "gzYAzGC9cHld",
        "outputId": "4f8e4ee5-0fc0-4ef9-c890-9ebdadb19855",
        "colab": {
          "base_uri": "https://localhost:8080/"
        }
      },
      "execution_count": 30,
      "outputs": [
        {
          "output_type": "stream",
          "name": "stdout",
          "text": [
            "1/1 [==============================] - 0s 53ms/step\n",
            "[[[ 4.25562374e-02 -1.14289038e-02 -5.10170311e-03  2.16388442e-02\n",
            "   -2.88745891e-02 -2.46692188e-02  1.07342824e-02 -3.14458460e-03\n",
            "   -4.14179452e-02 -1.55724287e-02]\n",
            "  [ 4.25562374e-02 -1.14289038e-02 -5.10170311e-03  2.16388442e-02\n",
            "   -2.88745891e-02 -2.46692188e-02  1.07342824e-02 -3.14458460e-03\n",
            "   -4.14179452e-02 -1.55724287e-02]\n",
            "  [ 2.67691128e-02 -3.97337601e-03 -4.84623760e-03 -1.93629395e-02\n",
            "   -4.02806029e-02  1.93106048e-02 -3.17760333e-02  1.34107806e-02\n",
            "   -3.33673246e-02 -4.78095412e-02]\n",
            "  [-3.47192399e-02 -1.68869123e-02 -2.20253710e-02 -3.63449082e-02\n",
            "   -1.60694122e-02  1.52031519e-02 -3.64284888e-02 -2.82433517e-02\n",
            "    4.97435443e-02  4.62707765e-02]\n",
            "  [ 3.17614786e-02  1.16852410e-02 -1.49835236e-02  4.72890772e-02\n",
            "   -4.43632863e-02 -4.12946120e-02  3.91481407e-02  2.82489397e-02\n",
            "    4.88573425e-02  3.52644213e-02]\n",
            "  [ 3.74058634e-03 -3.23574767e-02  3.40775885e-02 -8.14614445e-03\n",
            "    1.85784586e-02 -3.74525785e-03 -6.40040636e-03  1.41750909e-02\n",
            "    1.43437125e-02  4.47158702e-02]\n",
            "  [-4.16554324e-02 -7.82956928e-03 -1.52813792e-02 -3.70286480e-02\n",
            "   -7.05607235e-05 -4.01295908e-02 -4.02108915e-02  2.90036201e-03\n",
            "    1.87114216e-02  2.42624767e-02]\n",
            "  [-2.31206417e-03 -2.69875526e-02  2.25141160e-02 -1.48475990e-02\n",
            "    1.88394301e-02  1.97682269e-02  1.48767345e-02  5.39779663e-03\n",
            "    3.31992991e-02  4.69098948e-02]]\n",
            "\n",
            " [[ 4.25562374e-02 -1.14289038e-02 -5.10170311e-03  2.16388442e-02\n",
            "   -2.88745891e-02 -2.46692188e-02  1.07342824e-02 -3.14458460e-03\n",
            "   -4.14179452e-02 -1.55724287e-02]\n",
            "  [ 4.25562374e-02 -1.14289038e-02 -5.10170311e-03  2.16388442e-02\n",
            "   -2.88745891e-02 -2.46692188e-02  1.07342824e-02 -3.14458460e-03\n",
            "   -4.14179452e-02 -1.55724287e-02]\n",
            "  [ 4.83510159e-02 -6.29141182e-03  2.21740268e-02 -3.88923995e-02\n",
            "    4.07561921e-02  3.77528109e-02 -3.60580571e-02 -5.64801693e-03\n",
            "    3.93648632e-02 -4.62942235e-02]\n",
            "  [-1.20528564e-02 -2.82698870e-03 -3.53629477e-02  3.05033959e-02\n",
            "    1.58627369e-02  5.99962473e-03 -1.67325363e-02 -3.00034881e-05\n",
            "   -2.10605934e-03 -2.45605242e-02]\n",
            "  [ 3.17614786e-02  1.16852410e-02 -1.49835236e-02  4.72890772e-02\n",
            "   -4.43632863e-02 -4.12946120e-02  3.91481407e-02  2.82489397e-02\n",
            "    4.88573425e-02  3.52644213e-02]\n",
            "  [-1.95011627e-02 -2.77564060e-02 -4.93763201e-02 -1.53809190e-02\n",
            "   -7.96169043e-03  2.36735977e-02  5.28005511e-03 -6.85316324e-03\n",
            "    4.97449748e-02 -3.27712297e-02]\n",
            "  [-4.71102595e-02 -2.68647801e-02 -1.66396499e-02  2.90653370e-02\n",
            "   -2.01256759e-02  2.11142004e-04  2.50006840e-03 -7.21741840e-03\n",
            "   -1.59835443e-02  3.15865763e-02]\n",
            "  [ 2.42371894e-02 -2.47489456e-02 -4.78331558e-02 -3.97109166e-02\n",
            "    1.54197328e-02 -4.47606221e-02 -1.08969919e-02 -1.79991238e-02\n",
            "   -1.35542154e-02  4.95395102e-02]]\n",
            "\n",
            " [[ 4.25562374e-02 -1.14289038e-02 -5.10170311e-03  2.16388442e-02\n",
            "   -2.88745891e-02 -2.46692188e-02  1.07342824e-02 -3.14458460e-03\n",
            "   -4.14179452e-02 -1.55724287e-02]\n",
            "  [ 4.25562374e-02 -1.14289038e-02 -5.10170311e-03  2.16388442e-02\n",
            "   -2.88745891e-02 -2.46692188e-02  1.07342824e-02 -3.14458460e-03\n",
            "   -4.14179452e-02 -1.55724287e-02]\n",
            "  [ 4.25562374e-02 -1.14289038e-02 -5.10170311e-03  2.16388442e-02\n",
            "   -2.88745891e-02 -2.46692188e-02  1.07342824e-02 -3.14458460e-03\n",
            "   -4.14179452e-02 -1.55724287e-02]\n",
            "  [ 4.25562374e-02 -1.14289038e-02 -5.10170311e-03  2.16388442e-02\n",
            "   -2.88745891e-02 -2.46692188e-02  1.07342824e-02 -3.14458460e-03\n",
            "   -4.14179452e-02 -1.55724287e-02]\n",
            "  [ 4.63265814e-02 -4.91849892e-02 -4.31652442e-02 -6.47201389e-03\n",
            "   -4.11896817e-02 -5.83805889e-03  2.15017907e-02 -1.80000886e-02\n",
            "    3.20769064e-02  2.07795538e-02]\n",
            "  [-3.14343460e-02  4.94830050e-02  3.23373936e-02 -3.94701846e-02\n",
            "   -3.12698372e-02  3.78017463e-02 -7.34139606e-03 -4.40581329e-02\n",
            "    2.34568603e-02 -1.52524225e-02]\n",
            "  [-4.74506877e-02  3.10113169e-02 -9.90927219e-07 -2.16912385e-02\n",
            "   -9.52310488e-03  2.18178742e-02 -7.73377344e-03 -3.04110404e-02\n",
            "   -2.83622034e-02  4.74358834e-02]\n",
            "  [ 2.52159722e-02 -3.02149411e-02  1.69424154e-02  1.09963194e-02\n",
            "   -2.01853644e-02 -1.21958032e-02 -4.30476069e-02 -2.14625597e-02\n",
            "   -3.21634859e-03 -1.15193054e-03]]\n",
            "\n",
            " [[ 4.25562374e-02 -1.14289038e-02 -5.10170311e-03  2.16388442e-02\n",
            "   -2.88745891e-02 -2.46692188e-02  1.07342824e-02 -3.14458460e-03\n",
            "   -4.14179452e-02 -1.55724287e-02]\n",
            "  [ 4.25562374e-02 -1.14289038e-02 -5.10170311e-03  2.16388442e-02\n",
            "   -2.88745891e-02 -2.46692188e-02  1.07342824e-02 -3.14458460e-03\n",
            "   -4.14179452e-02 -1.55724287e-02]\n",
            "  [ 2.67691128e-02 -3.97337601e-03 -4.84623760e-03 -1.93629395e-02\n",
            "   -4.02806029e-02  1.93106048e-02 -3.17760333e-02  1.34107806e-02\n",
            "   -3.33673246e-02 -4.78095412e-02]\n",
            "  [ 3.77162546e-03  3.15248482e-02 -4.18294221e-04 -2.29268428e-02\n",
            "    1.32257380e-02 -3.67683172e-03  3.43926884e-02  3.46057527e-02\n",
            "    1.46155693e-02 -4.03361395e-03]\n",
            "  [ 3.17614786e-02  1.16852410e-02 -1.49835236e-02  4.72890772e-02\n",
            "   -4.43632863e-02 -4.12946120e-02  3.91481407e-02  2.82489397e-02\n",
            "    4.88573425e-02  3.52644213e-02]\n",
            "  [ 2.55585201e-02 -2.55880598e-02  8.75763968e-03 -1.40340105e-02\n",
            "   -3.63472924e-02 -4.70998771e-02 -1.73967257e-02 -1.09323114e-03\n",
            "   -8.50745291e-03  4.24574278e-02]\n",
            "  [ 2.67691128e-02 -3.97337601e-03 -4.84623760e-03 -1.93629395e-02\n",
            "   -4.02806029e-02  1.93106048e-02 -3.17760333e-02  1.34107806e-02\n",
            "   -3.33673246e-02 -4.78095412e-02]\n",
            "  [-3.84203792e-02  1.09596476e-02 -3.25802788e-02 -2.50435825e-02\n",
            "   -1.00061074e-02  2.39211805e-02 -1.82809345e-02 -1.00413077e-02\n",
            "   -1.38123743e-02  2.33890451e-02]]\n",
            "\n",
            " [[ 4.25562374e-02 -1.14289038e-02 -5.10170311e-03  2.16388442e-02\n",
            "   -2.88745891e-02 -2.46692188e-02  1.07342824e-02 -3.14458460e-03\n",
            "   -4.14179452e-02 -1.55724287e-02]\n",
            "  [-4.80346084e-02 -4.99708317e-02 -1.55572966e-03  2.00114734e-02\n",
            "    3.20958383e-02 -1.04291663e-02  2.67721713e-04 -8.64374638e-03\n",
            "    4.35543321e-02  1.22037642e-02]\n",
            "  [ 2.17086188e-02  1.67939998e-02  3.34774964e-02  3.36430930e-02\n",
            "    4.40120213e-02  4.37859632e-02  4.77619655e-02 -3.81803140e-02\n",
            "    4.54517044e-02 -2.14804299e-02]\n",
            "  [-3.66239436e-02 -2.54632477e-02 -4.86185215e-02  1.48896314e-02\n",
            "    2.26691850e-02 -1.33521184e-02 -2.09202059e-02 -1.33045316e-02\n",
            "   -3.54812033e-02 -2.84973029e-02]\n",
            "  [ 3.17614786e-02  1.16852410e-02 -1.49835236e-02  4.72890772e-02\n",
            "   -4.43632863e-02 -4.12946120e-02  3.91481407e-02  2.82489397e-02\n",
            "    4.88573425e-02  3.52644213e-02]\n",
            "  [-1.95011627e-02 -2.77564060e-02 -4.93763201e-02 -1.53809190e-02\n",
            "   -7.96169043e-03  2.36735977e-02  5.28005511e-03 -6.85316324e-03\n",
            "    4.97449748e-02 -3.27712297e-02]\n",
            "  [-4.71102595e-02 -2.68647801e-02 -1.66396499e-02  2.90653370e-02\n",
            "   -2.01256759e-02  2.11142004e-04  2.50006840e-03 -7.21741840e-03\n",
            "   -1.59835443e-02  3.15865763e-02]\n",
            "  [ 2.42371894e-02 -2.47489456e-02 -4.78331558e-02 -3.97109166e-02\n",
            "    1.54197328e-02 -4.47606221e-02 -1.08969919e-02 -1.79991238e-02\n",
            "   -1.35542154e-02  4.95395102e-02]]\n",
            "\n",
            " [[ 4.25562374e-02 -1.14289038e-02 -5.10170311e-03  2.16388442e-02\n",
            "   -2.88745891e-02 -2.46692188e-02  1.07342824e-02 -3.14458460e-03\n",
            "   -4.14179452e-02 -1.55724287e-02]\n",
            "  [ 4.25562374e-02 -1.14289038e-02 -5.10170311e-03  2.16388442e-02\n",
            "   -2.88745891e-02 -2.46692188e-02  1.07342824e-02 -3.14458460e-03\n",
            "   -4.14179452e-02 -1.55724287e-02]\n",
            "  [-5.08462265e-03 -1.84464455e-03  4.87164743e-02  2.24441402e-02\n",
            "   -3.15125585e-02  5.90779632e-03 -7.86734745e-03  2.78856419e-02\n",
            "    1.81796812e-02  3.05168517e-02]\n",
            "  [ 3.17614786e-02  1.16852410e-02 -1.49835236e-02  4.72890772e-02\n",
            "   -4.43632863e-02 -4.12946120e-02  3.91481407e-02  2.82489397e-02\n",
            "    4.88573425e-02  3.52644213e-02]\n",
            "  [-1.95011627e-02 -2.77564060e-02 -4.93763201e-02 -1.53809190e-02\n",
            "   -7.96169043e-03  2.36735977e-02  5.28005511e-03 -6.85316324e-03\n",
            "    4.97449748e-02 -3.27712297e-02]\n",
            "  [-4.71102595e-02 -2.68647801e-02 -1.66396499e-02  2.90653370e-02\n",
            "   -2.01256759e-02  2.11142004e-04  2.50006840e-03 -7.21741840e-03\n",
            "   -1.59835443e-02  3.15865763e-02]\n",
            "  [ 3.75016779e-03 -4.33120616e-02  2.74707712e-02 -8.67440552e-03\n",
            "   -3.42991948e-02 -3.86381969e-02  1.08407848e-02  3.98974903e-02\n",
            "   -1.80413239e-02 -1.24289840e-03]\n",
            "  [-4.61328030e-03 -4.92809676e-02  3.85003947e-02 -2.62722261e-02\n",
            "    1.83031894e-02  2.22113244e-02  3.45216058e-02 -2.38601323e-02\n",
            "   -3.00068017e-02  1.66086070e-02]]]\n"
          ]
        }
      ]
    }
  ],
  "metadata": {
    "kernelspec": {
      "display_name": "Python 3",
      "language": "python",
      "name": "python3"
    },
    "language_info": {
      "codemirror_mode": {
        "name": "ipython",
        "version": 3
      },
      "file_extension": ".py",
      "mimetype": "text/x-python",
      "name": "python",
      "nbconvert_exporter": "python",
      "pygments_lexer": "ipython3",
      "version": "3.7.4"
    },
    "colab": {
      "provenance": [],
      "collapsed_sections": [],
      "include_colab_link": true
    },
    "accelerator": "GPU",
    "gpuClass": "standard"
  },
  "nbformat": 4,
  "nbformat_minor": 0
}