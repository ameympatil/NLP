{
  "nbformat": 4,
  "nbformat_minor": 0,
  "metadata": {
    "colab": {
      "provenance": []
    },
    "kernelspec": {
      "name": "python3",
      "display_name": "Python 3"
    },
    "language_info": {
      "name": "python"
    }
  },
  "cells": [
    {
      "cell_type": "markdown",
      "source": [
        "# Amey Patil\n",
        "## 1132210050"
      ],
      "metadata": {
        "id": "i7NMlEbvrR-0"
      }
    },
    {
      "cell_type": "markdown",
      "source": [
        "## Sentence Tokens"
      ],
      "metadata": {
        "id": "9F_pg7ehZdSn"
      }
    },
    {
      "cell_type": "code",
      "execution_count": 7,
      "metadata": {
        "colab": {
          "base_uri": "https://localhost:8080/",
          "height": 0
        },
        "id": "_MmtyW8WW6zt",
        "outputId": "f8a0e6c3-ef7f-428a-db7f-da85925ff2d6"
      },
      "outputs": [
        {
          "output_type": "stream",
          "name": "stdout",
          "text": [
            "['The quick brown fox jumps over the lazy dog.']\n"
          ]
        },
        {
          "output_type": "stream",
          "name": "stderr",
          "text": [
            "[nltk_data] Downloading package punkt to /root/nltk_data...\n",
            "[nltk_data]   Package punkt is already up-to-date!\n"
          ]
        }
      ],
      "source": [
        "import nltk\n",
        "#nltk.download('punkt')\n",
        "from nltk.tokenize import sent_tokenize\n",
        "text=\"The quick brown fox jumps over the lazy dog.\"\n",
        "print(sent_tokenize(text))"
      ]
    },
    {
      "cell_type": "markdown",
      "source": [
        "##  Words Tokens"
      ],
      "metadata": {
        "id": "M_HTd_tFZh3_"
      }
    },
    {
      "cell_type": "code",
      "source": [
        "from nltk.tokenize import word_tokenize\n",
        "word_tokens=word_tokenize(text)\n",
        "word_tokens"
      ],
      "metadata": {
        "colab": {
          "base_uri": "https://localhost:8080/",
          "height": 0
        },
        "id": "6sKsSmorb338",
        "outputId": "f676fff4-179e-44b9-f538-1684b0c20438"
      },
      "execution_count": 12,
      "outputs": [
        {
          "output_type": "execute_result",
          "data": {
            "text/plain": [
              "['The', 'quick', 'brown', 'fox', 'jumps', 'over', 'the', 'lazy', 'dog', '.']"
            ]
          },
          "metadata": {},
          "execution_count": 12
        }
      ]
    },
    {
      "cell_type": "markdown",
      "source": [
        "## Stop Words"
      ],
      "metadata": {
        "id": "lx-7tDLBaAJA"
      }
    },
    {
      "cell_type": "code",
      "source": [
        "from nltk.corpus import stopwords\n",
        "#nltk.download('stopwords')\n",
        "stop_words=stopwords.words('english')\n",
        "stop_words"
      ],
      "metadata": {
        "colab": {
          "base_uri": "https://localhost:8080/",
          "height": 0
        },
        "id": "zw3PXdMaZmjt",
        "outputId": "0e1ed37a-d27f-44cd-b60e-ec20eb7c197f"
      },
      "execution_count": 17,
      "outputs": [
        {
          "output_type": "stream",
          "name": "stderr",
          "text": [
            "[nltk_data] Downloading package stopwords to /root/nltk_data...\n",
            "[nltk_data]   Package stopwords is already up-to-date!\n"
          ]
        },
        {
          "output_type": "execute_result",
          "data": {
            "text/plain": [
              "['i',\n",
              " 'me',\n",
              " 'my',\n",
              " 'myself',\n",
              " 'we',\n",
              " 'our',\n",
              " 'ours',\n",
              " 'ourselves',\n",
              " 'you',\n",
              " \"you're\",\n",
              " \"you've\",\n",
              " \"you'll\",\n",
              " \"you'd\",\n",
              " 'your',\n",
              " 'yours',\n",
              " 'yourself',\n",
              " 'yourselves',\n",
              " 'he',\n",
              " 'him',\n",
              " 'his',\n",
              " 'himself',\n",
              " 'she',\n",
              " \"she's\",\n",
              " 'her',\n",
              " 'hers',\n",
              " 'herself',\n",
              " 'it',\n",
              " \"it's\",\n",
              " 'its',\n",
              " 'itself',\n",
              " 'they',\n",
              " 'them',\n",
              " 'their',\n",
              " 'theirs',\n",
              " 'themselves',\n",
              " 'what',\n",
              " 'which',\n",
              " 'who',\n",
              " 'whom',\n",
              " 'this',\n",
              " 'that',\n",
              " \"that'll\",\n",
              " 'these',\n",
              " 'those',\n",
              " 'am',\n",
              " 'is',\n",
              " 'are',\n",
              " 'was',\n",
              " 'were',\n",
              " 'be',\n",
              " 'been',\n",
              " 'being',\n",
              " 'have',\n",
              " 'has',\n",
              " 'had',\n",
              " 'having',\n",
              " 'do',\n",
              " 'does',\n",
              " 'did',\n",
              " 'doing',\n",
              " 'a',\n",
              " 'an',\n",
              " 'the',\n",
              " 'and',\n",
              " 'but',\n",
              " 'if',\n",
              " 'or',\n",
              " 'because',\n",
              " 'as',\n",
              " 'until',\n",
              " 'while',\n",
              " 'of',\n",
              " 'at',\n",
              " 'by',\n",
              " 'for',\n",
              " 'with',\n",
              " 'about',\n",
              " 'against',\n",
              " 'between',\n",
              " 'into',\n",
              " 'through',\n",
              " 'during',\n",
              " 'before',\n",
              " 'after',\n",
              " 'above',\n",
              " 'below',\n",
              " 'to',\n",
              " 'from',\n",
              " 'up',\n",
              " 'down',\n",
              " 'in',\n",
              " 'out',\n",
              " 'on',\n",
              " 'off',\n",
              " 'over',\n",
              " 'under',\n",
              " 'again',\n",
              " 'further',\n",
              " 'then',\n",
              " 'once',\n",
              " 'here',\n",
              " 'there',\n",
              " 'when',\n",
              " 'where',\n",
              " 'why',\n",
              " 'how',\n",
              " 'all',\n",
              " 'any',\n",
              " 'both',\n",
              " 'each',\n",
              " 'few',\n",
              " 'more',\n",
              " 'most',\n",
              " 'other',\n",
              " 'some',\n",
              " 'such',\n",
              " 'no',\n",
              " 'nor',\n",
              " 'not',\n",
              " 'only',\n",
              " 'own',\n",
              " 'same',\n",
              " 'so',\n",
              " 'than',\n",
              " 'too',\n",
              " 'very',\n",
              " 's',\n",
              " 't',\n",
              " 'can',\n",
              " 'will',\n",
              " 'just',\n",
              " 'don',\n",
              " \"don't\",\n",
              " 'should',\n",
              " \"should've\",\n",
              " 'now',\n",
              " 'd',\n",
              " 'll',\n",
              " 'm',\n",
              " 'o',\n",
              " 're',\n",
              " 've',\n",
              " 'y',\n",
              " 'ain',\n",
              " 'aren',\n",
              " \"aren't\",\n",
              " 'couldn',\n",
              " \"couldn't\",\n",
              " 'didn',\n",
              " \"didn't\",\n",
              " 'doesn',\n",
              " \"doesn't\",\n",
              " 'hadn',\n",
              " \"hadn't\",\n",
              " 'hasn',\n",
              " \"hasn't\",\n",
              " 'haven',\n",
              " \"haven't\",\n",
              " 'isn',\n",
              " \"isn't\",\n",
              " 'ma',\n",
              " 'mightn',\n",
              " \"mightn't\",\n",
              " 'mustn',\n",
              " \"mustn't\",\n",
              " 'needn',\n",
              " \"needn't\",\n",
              " 'shan',\n",
              " \"shan't\",\n",
              " 'shouldn',\n",
              " \"shouldn't\",\n",
              " 'wasn',\n",
              " \"wasn't\",\n",
              " 'weren',\n",
              " \"weren't\",\n",
              " 'won',\n",
              " \"won't\",\n",
              " 'wouldn',\n",
              " \"wouldn't\"]"
            ]
          },
          "metadata": {},
          "execution_count": 17
        }
      ]
    },
    {
      "cell_type": "markdown",
      "source": [
        "## Without Stop words"
      ],
      "metadata": {
        "id": "q0V73mOmdEkI"
      }
    },
    {
      "cell_type": "code",
      "source": [
        "lis = []\n",
        "for i in word_tokens:\n",
        "  if i not in stop_words:\n",
        "    lis.append(i)\n",
        "print(\"word_Token:\")\n",
        "print(word_tokens)\n",
        "print(\"Without Stop Words: \")\n",
        "print(lis)"
      ],
      "metadata": {
        "colab": {
          "base_uri": "https://localhost:8080/",
          "height": 0
        },
        "id": "RPEhGi7maGtZ",
        "outputId": "25966c3d-5016-403e-ab15-17d53a6b4928"
      },
      "execution_count": 14,
      "outputs": [
        {
          "output_type": "stream",
          "name": "stdout",
          "text": [
            "word_Token:\n",
            "['The', 'quick', 'brown', 'fox', 'jumps', 'over', 'the', 'lazy', 'dog', '.']\n",
            "Without Stop Words: \n",
            "['The', 'quick', 'brown', 'fox', 'jumps', 'lazy', 'dog', '.']\n"
          ]
        }
      ]
    },
    {
      "cell_type": "markdown",
      "source": [
        "## All possible 4 letter words"
      ],
      "metadata": {
        "id": "5LwpzwnooUUd"
      }
    },
    {
      "cell_type": "code",
      "source": [
        "import nltk\n",
        "#nltk.download(\"words\")\n",
        "words = nltk.corpus.words.words('en')\n",
        "len(words)"
      ],
      "metadata": {
        "colab": {
          "base_uri": "https://localhost:8080/",
          "height": 0
        },
        "id": "PgOlfVMfm_5w",
        "outputId": "6ca1070d-c51c-44d8-92fd-4dd6910cb6bc"
      },
      "execution_count": 34,
      "outputs": [
        {
          "output_type": "execute_result",
          "data": {
            "text/plain": [
              "235886"
            ]
          },
          "metadata": {},
          "execution_count": 34
        }
      ]
    },
    {
      "cell_type": "code",
      "source": [
        "import itertools\n",
        "word=\"Friendship\"\n",
        "l = []\n",
        "for i in word:\n",
        "  l.append(i.lower()) \n",
        "keywords = []\n",
        "for a1 in l:\n",
        "    for a2 in l:\n",
        "        for a3 in l:\n",
        "          for a4 in l:\n",
        "            keywords.append(a1+a2+a3+a4)\n",
        "\n",
        "d = []\n",
        "for i in keywords:\n",
        "  if i in words:\n",
        "    d.append(i)\n",
        "print(d)"
      ],
      "metadata": {
        "colab": {
          "base_uri": "https://localhost:8080/",
          "height": 0
        },
        "id": "GwZKcQlrfgXp",
        "outputId": "9b9df36e-c57b-4908-96ed-01afcc343faf"
      },
      "execution_count": 38,
      "outputs": [
        {
          "output_type": "stream",
          "name": "stdout",
          "text": [
            "['free', 'fife', 'fire', 'firn', 'fine', 'find', 'fide', 'fise', 'fish', 'fern', 'feif', 'feis', 'feer', 'feed', 'fend', 'fess', 'feif', 'feis', 'fife', 'fire', 'firn', 'fine', 'find', 'fide', 'fise', 'fish', 'riff', 'rife', 'rier', 'rine', 'rind', 'ride', 'rise', 'risp', 'ripe', 'reif', 'rein', 'reis', 'reef', 'reen', 'reed', 'rend', 'rede', 'redd', 'resh', 'resp', 'reif', 'rein', 'reis', 'reps', 'repp', 'riff', 'rife', 'rier', 'rine', 'rind', 'ride', 'rise', 'risp', 'ripe', 'irid', 'iris', 'irid', 'iris', 'inde', 'ides', 'ipid', 'ipid', 'erne', 'ense', 'esne', 'epee', 'nife', 'nine', 'nidi', 'nide', 'nidi', 'neif', 'neer', 'need', 'neep', 'nese', 'ness', 'nesh', 'neif', 'nife', 'nine', 'nidi', 'nide', 'nidi', 'drip', 'dree', 'drip', 'dire', 'dird', 'dier', 'dine', 'diss', 'dish', 'dere', 'dern', 'deer', 'deed', 'deep', 'dene', 'desi', 'dess', 'desi', 'dire', 'dird', 'dier', 'dine', 'diss', 'dish', 'sife', 'sire', 'sier', 'sine', 'sind', 'sinh', 'sidi', 'side', 'sidi', 'sisi', 'sise', 'siss', 'sish', 'sisi', 'sipe', 'serf', 'sere', 'seer', 'seen', 'seed', 'seep', 'send', 'sess', 'seps', 'snip', 'snee', 'sned', 'snip', 'shin', 'shih', 'ship', 'sher', 'shee', 'shed', 'shin', 'shih', 'ship', 'sife', 'sire', 'sier', 'sine', 'sind', 'sinh', 'sidi', 'side', 'sidi', 'sisi', 'sise', 'siss', 'sish', 'sisi', 'sipe', 'spin', 'sped', 'spin', 'hire', 'hind', 'hide', 'hisn', 'hiss', 'hish', 'hipe', 'here', 'hern', 'herd', 'hers', 'heir', 'heii', 'heii', 'heer', 'heed', 'hend', 'heir', 'heii', 'heii', 'hire', 'hind', 'hide', 'hisn', 'hiss', 'hish', 'hipe', 'irid', 'iris', 'irid', 'iris', 'inde', 'ides', 'ipid', 'ipid', 'prep', 'piff', 'pirr', 'pirn', 'pier', 'pien', 'pied', 'pine', 'pind', 'pise', 'piss', 'pish', 'pipi', 'pipe', 'pipi', 'peri', 'pern', 'peri', 'peer', 'peen', 'peed', 'peep', 'pend', 'pess', 'piff', 'pirr', 'pirn', 'pier', 'pien', 'pied', 'pine', 'pind', 'pise', 'piss', 'pish', 'pipi', 'pipe', 'pipi']\n"
          ]
        }
      ]
    },
    {
      "cell_type": "markdown",
      "source": [
        "## Synonyms of \"Hello\""
      ],
      "metadata": {
        "id": "YhX9yIAoqReO"
      }
    },
    {
      "cell_type": "code",
      "source": [
        "from nltk.corpus import wordnet\n",
        "#nltk.download(\"wordnet\")\n",
        "#nltk.download(\"omw-1.4\")\n",
        "synonyms = wordnet.synsets(\"hello\")\n",
        "for i in synonyms:\n",
        "  print(i.lemma_names())"
      ],
      "metadata": {
        "colab": {
          "base_uri": "https://localhost:8080/",
          "height": 0
        },
        "id": "OEcv9hyujTv-",
        "outputId": "5056004c-ffbc-40a7-c6c3-8367b825395d"
      },
      "execution_count": 45,
      "outputs": [
        {
          "output_type": "stream",
          "name": "stdout",
          "text": [
            "['hello', 'hullo', 'hi', 'howdy', 'how-do-you-do']\n"
          ]
        }
      ]
    },
    {
      "cell_type": "code",
      "source": [],
      "metadata": {
        "id": "loaHIBgYpuVc"
      },
      "execution_count": null,
      "outputs": []
    }
  ]
}